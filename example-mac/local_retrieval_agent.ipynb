{
 "cells": [
  {
   "cell_type": "markdown",
   "metadata": {},
   "source": [
    "# Introduction\n",
    "\n",
    "this notebook demos example of using llm in a MPS backend (apple silicon GPU) using torch 2.x\n",
    "\n",
    "Referece:\n",
    "* torch 2.x MPS Backend: https://pytorch.org/docs/stable/notes/mps.html"
   ]
  },
  {
   "cell_type": "code",
   "execution_count": 30,
   "metadata": {},
   "outputs": [
    {
     "name": "stdout",
     "output_type": "stream",
     "text": [
      "0.0.6\n"
     ]
    }
   ],
   "source": [
    "import os\n",
    "import torch\n",
    "import applyllm as apl\n",
    "\n",
    "print(apl.__version__)\n"
   ]
  },
  {
   "cell_type": "code",
   "execution_count": 31,
   "metadata": {},
   "outputs": [
    {
     "name": "stdout",
     "output_type": "stream",
     "text": [
      "MPS is available\n",
      "mps\n"
     ]
    }
   ],
   "source": [
    "# check that MPS is availabe (Metal Performance Shaders)\n",
    "if not torch.backends.mps.is_available():\n",
    "    print(\"MPS is not available\")\n",
    "else:\n",
    "    print(\"MPS is available\")\n",
    "    mps_device = torch.device(\"mps\")\n",
    "    print(mps_device)\n",
    "\n"
   ]
  },
  {
   "cell_type": "markdown",
   "metadata": {},
   "source": [
    "## Define global variables"
   ]
  },
  {
   "cell_type": "code",
   "execution_count": 32,
   "metadata": {},
   "outputs": [
    {
     "name": "stdout",
     "output_type": "stream",
     "text": [
      "/Users/yingding/MODELS\n"
     ]
    }
   ],
   "source": [
    "from applyllm.accelerators import (\n",
    "    DirectorySetting,\n",
    "    TokenHelper as th,\n",
    ")\n",
    "    \n",
    "dir_mode_map = {\n",
    "    \"kf_notebook\": DirectorySetting(),\n",
    "    \"mac_local\": DirectorySetting(home_dir=\"/Users/yingding\", transformers_cache_home=\"MODELS\", huggingface_token_file=\"MODELS/.huggingface_token\"),\n",
    "}\n",
    "\n",
    "model_map = {\n",
    "    \"llama7B-chat\":     \"meta-llama/Llama-2-7b-chat-hf\",\n",
    "    \"llama13B-chat\" :   \"meta-llama/Llama-2-13b-chat-hf\",\n",
    "    \"llama70B-chat\" :   \"meta-llama/Llama-2-70b-chat-hf\",\n",
    "    \"mistral7B-01\":     \"mistralai/Mistral-7B-v0.1\",\n",
    "    \"mistral7B-inst02\": \"mistralai/Mistral-7B-Instruct-v0.2\",\n",
    "    \"mixtral8x7B-01\":   \"mistralai/Mixtral-8x7B-v0.1\",\n",
    "    \"mixtral8x7B-inst01\":   \"mistralai/Mixtral-8x7B-Instruct-v0.1\",\n",
    "    \"gemma7b-it\": \"google/gemma-7b-it\",\n",
    "    \"gemma7b\" : \"google/gemma-7b\",\n",
    "    \"gemma7b-it-1.1\": \"google/gemma-1.1-7b-it\",\n",
    "    \"gemma2b-it\": \"google/gemma-2b-it\",\n",
    "    \"gemma2b\" : \"google/gemma-2b\",\n",
    "    \"gemma2b-it-1.1\": \"google/gemma-1.1-2b-it\",\n",
    "}\n",
    "\n",
    "default_model_type = \"mistral7B-01\"\n",
    "default_dir_mode = \"mac_local\"\n",
    "\n",
    "dir_setting = dir_mode_map[default_dir_mode]\n",
    "\n",
    "os.environ[\"WORLD_SIZE\"] = \"1\" \n",
    "os.environ['XDG_CACHE_HOME'] = dir_setting.get_cache_home()\n",
    "\n",
    "print(os.environ['XDG_CACHE_HOME'])"
   ]
  },
  {
   "cell_type": "code",
   "execution_count": 33,
   "metadata": {},
   "outputs": [
    {
     "name": "stdout",
     "output_type": "stream",
     "text": [
      "4.40.2\n",
      "2.3.0\n"
     ]
    }
   ],
   "source": [
    "import transformers\n",
    "import torch\n",
    "\n",
    "print(transformers.__version__)\n",
    "print(torch.__version__)"
   ]
  },
  {
   "cell_type": "markdown",
   "metadata": {},
   "source": [
    "## Choose LLM model"
   ]
  },
  {
   "cell_type": "code",
   "execution_count": 34,
   "metadata": {},
   "outputs": [
    {
     "name": "stdout",
     "output_type": "stream",
     "text": [
      "mistralai/Mistral-7B-Instruct-v0.2\n"
     ]
    }
   ],
   "source": [
    "# model_type = default_model_type\n",
    "# model_type = \"gemma7b-it\"\n",
    "# model_type = \"gemma7b-it-1.1\"\n",
    "# model_type = \"gemma2b-it\"\n",
    "# model_type = \"gemma2b-it-1.1\"\n",
    "model_type = \"mistral7B-inst02\"\n",
    "# model_type = \"llama7B-chat\"\n",
    "# model_type = \"llama13B-chat\"\n",
    "\n",
    "model_name = model_map.get(model_type, default_model_type)\n",
    "print(model_name)"
   ]
  },
  {
   "cell_type": "markdown",
   "metadata": {},
   "source": [
    "### Fast tokenizer\n",
    "\n",
    "* https://github.com/huggingface/transformers/issues/23889#issuecomment-1584090357"
   ]
  },
  {
   "cell_type": "markdown",
   "metadata": {},
   "source": [
    "### Load LLM Model and then Tokenizer"
   ]
  },
  {
   "cell_type": "code",
   "execution_count": 35,
   "metadata": {},
   "outputs": [
    {
     "name": "stdout",
     "output_type": "stream",
     "text": [
      "huggingface token is NOT needed\n",
      "token_kwargs: {}\n",
      "model_kwargs: {'torch_dtype': torch.float16, 'device_map': 'mps', 'max_length': None}\n",
      "pipeline_kwargs: {'torch_dtype': torch.float16, 'device_map': 'mps', 'max_length': None, 'task': 'text-generation', 'max_new_tokens': 200, 'do_sample': True, 'temperature': 0.001, 'top_k': 3, 'top_p': 0.85, 'framework': 'pt', 'return_full_text': False}\n"
     ]
    }
   ],
   "source": [
    "from applyllm.pipelines import (\n",
    "    ModelCatalog,\n",
    "    KwargsBuilder\n",
    ")\n",
    "token_kwargs = th.gen_token_kwargs(model_type=model_type, dir_setting=dir_setting)\n",
    "print(f\"token_kwargs: {token_kwargs}\")\n",
    "\n",
    "# data_type = torch.bfloat16\n",
    "data_type = torch.float16\n",
    "device_map = \"mps\" # \"auto\"  \n",
    "# auto caste not working for mps 4.38.2\n",
    "# https://github.com/huggingface/transformers/issues/29431 \n",
    "\n",
    "# mixtral model has no max_new_tokens limit, so it is not set here.\n",
    "model_kwargs = {\n",
    "    \"torch_dtype\": data_type, #bfloat16 is not supported on MPS backend, float16 only on GPU accelerator\n",
    "    # torch_dtype=torch.float32,\n",
    "    # max_length=MAX_LENGTH,\n",
    "    \"device_map\": device_map,\n",
    "    \"max_length\" : None, # remove the total length of the generated response\n",
    "}\n",
    "print(f\"model_kwargs: {model_kwargs}\")\n",
    "\n",
    "# set the transformers.pipeline kwargs\n",
    "# the torch_dtype shall be set both for the model and the pipeline, due to a transformer issue.\n",
    "# otherwise it will cause unnecessary more memory usage in the pipeline of transformers\n",
    "# https://github.com/huggingface/transformers/issues/28817\n",
    "# https://github.com/mlflow/mlflow/pull/10979\n",
    "\n",
    "# Set transformers.pipeline only to return generated text return_full_text=False\n",
    "# https://github.com/huggingface/transformers/issues/17117#issuecomment-1120809167\n",
    "pipeline_kwargs = {\n",
    "    \"task\": \"text-generation\",\n",
    "    \"max_new_tokens\" : 200,\n",
    "    \"do_sample\" : True, # do_sample True is required for temperature\n",
    "    \"temperature\" : 0.001, \n",
    "    \"device_map\" : device_map, # use the MPS device if available\n",
    "    \"top_k\": 3,\n",
    "    \"top_p\": 0.85, #0.95\n",
    "    # \"num_return_sequences\": 1,\n",
    "    \"framework\": \"pt\", # use pytorch as framework\n",
    "    \"return_full_text\": False, # return only the generated text, not the input text with the generated text\n",
    "}\n",
    "\n",
    "gemma_pipeline_kwargs = {\n",
    "    \"add_special_tokens\": True,\n",
    "    \"torch_dtype\": data_type,\n",
    "}\n",
    "\n",
    "# pipeline_kwargs override the model_kwargs during the merge\n",
    "pipeline_kwargs = KwargsBuilder([model_kwargs]).override(pipeline_kwargs).build()\n",
    "\n",
    "if model_name.startswith(ModelCatalog.GOOGLE_FAMILY):\n",
    "    pipeline_kwargs = KwargsBuilder([pipeline_kwargs]).override(gemma_pipeline_kwargs).build()\n",
    "\n",
    "print(f\"pipeline_kwargs: {pipeline_kwargs}\")\n"
   ]
  },
  {
   "cell_type": "markdown",
   "metadata": {},
   "source": [
    "### Max memory to offload parts of LLM model to the CPU memory\n",
    "* https://huggingface.co/docs/accelerate/concept_guides/big_model_inference#designing-a-device-map\n",
    "\n",
    "Note:\n",
    "* Max Memory offload to CPU is CUDA implementation only\n",
    "\n"
   ]
  },
  {
   "cell_type": "code",
   "execution_count": 36,
   "metadata": {},
   "outputs": [
    {
     "name": "stderr",
     "output_type": "stream",
     "text": [
      "/Users/yingding/VENV/agents3.11/lib/python3.11/site-packages/huggingface_hub/file_download.py:1132: FutureWarning: `resume_download` is deprecated and will be removed in version 1.0.0. Downloads always resume when possible. If you want to force a new download, use `force_download=True`.\n",
      "  warnings.warn(\n"
     ]
    },
    {
     "data": {
      "application/vnd.jupyter.widget-view+json": {
       "model_id": "834a7a3241934f4eb5543475e79a9ba0",
       "version_major": 2,
       "version_minor": 0
      },
      "text/plain": [
       "Loading checkpoint shards:   0%|          | 0/3 [00:00<?, ?it/s]"
      ]
     },
     "metadata": {},
     "output_type": "display_data"
    },
    {
     "name": "stdout",
     "output_type": "stream",
     "text": [
      "====================\n",
      "executed: load_model() python function\n",
      "walltime: 57.30163502693176 in secs.\n",
      "====================\n"
     ]
    }
   ],
   "source": [
    "from transformers import AutoModelForCausalLM, AutoTokenizer\n",
    "from applyllm.utils import time_func\n",
    "from applyllm.pipelines import ModelConfig, LocalCausalLMConfig\n",
    "\n",
    "\n",
    "base_lm_config = ModelConfig(\n",
    "  model_config = {\n",
    "    \"pretrained_model_name_or_path\": model_name,\n",
    "    \"device_map\": device_map,\n",
    "  }\n",
    ")\n",
    "\n",
    "# No bitsandbytes qunatization support for MPS backend yet, set quantized to False\n",
    "kwargs = {\n",
    "  \"quantized\": False,\n",
    "  \"model_config\": base_lm_config.get_config(),\n",
    "  \"quantization_config\": {\n",
    "    \"quantization_config\": transformers.BitsAndBytesConfig(\n",
    "      load_in_4bit=True,\n",
    "      bnb_4bit_quant_type='nf4',\n",
    "      bnb_4bit_use_double_quant=True,\n",
    "      bnb_4bit_compute_dtype=torch.bfloat16\n",
    "      )\n",
    "    },\n",
    "    \"trust_remote_code\": True,\n",
    "}\n",
    "\n",
    "lm_config = LocalCausalLMConfig(**kwargs)\n",
    "\n",
    "@time_func\n",
    "def load_model():\n",
    "  return AutoModelForCausalLM.from_pretrained(    \n",
    "    **lm_config.get_config(),\n",
    "    **token_kwargs,  \n",
    "  )\n",
    "\n",
    "model = load_model()"
   ]
  },
  {
   "cell_type": "code",
   "execution_count": 37,
   "metadata": {},
   "outputs": [],
   "source": [
    "tokenizer_kwargs = {\n",
    "    \"model_config\": {\n",
    "        \"pretrained_model_name_or_path\": model_name,\n",
    "        \"device\": \"cpu\",\n",
    "        # \"device_map\": \"auto\", # put to GPU if GPU is available\n",
    "        # \"max_position_embeddings\": MAX_LENGTH,\n",
    "        # \"max_length\": MAX_LENGTH,\n",
    "    },\n",
    "}\n",
    "tokenizer_config = ModelConfig(**tokenizer_kwargs)\n",
    "\n",
    "tokenizer = AutoTokenizer.from_pretrained(\n",
    "    **tokenizer_config.get_config(),\n",
    "    **token_kwargs\n",
    ")"
   ]
  },
  {
   "cell_type": "code",
   "execution_count": 38,
   "metadata": {},
   "outputs": [
    {
     "data": {
      "text/plain": [
       "LlamaTokenizerFast(name_or_path='mistralai/Mistral-7B-Instruct-v0.2', vocab_size=32000, model_max_length=1000000000000000019884624838656, is_fast=True, padding_side='left', truncation_side='right', special_tokens={'bos_token': '<s>', 'eos_token': '</s>', 'unk_token': '<unk>'}, clean_up_tokenization_spaces=False),  added_tokens_decoder={\n",
       "\t0: AddedToken(\"<unk>\", rstrip=False, lstrip=False, single_word=False, normalized=False, special=True),\n",
       "\t1: AddedToken(\"<s>\", rstrip=False, lstrip=False, single_word=False, normalized=False, special=True),\n",
       "\t2: AddedToken(\"</s>\", rstrip=False, lstrip=False, single_word=False, normalized=False, special=True),\n",
       "}"
      ]
     },
     "execution_count": 38,
     "metadata": {},
     "output_type": "execute_result"
    }
   ],
   "source": [
    "tokenizer"
   ]
  },
  {
   "cell_type": "markdown",
   "metadata": {},
   "source": [
    "### Testing token\n",
    "* https://huggingface.co/docs/tokenizers/pipeline"
   ]
  },
  {
   "cell_type": "code",
   "execution_count": 39,
   "metadata": {},
   "outputs": [
    {
     "name": "stdout",
     "output_type": "stream",
     "text": [
      "mistralai/Mistral-7B-Instruct-v0.2\n"
     ]
    }
   ],
   "source": [
    "print(model_name)"
   ]
  },
  {
   "cell_type": "code",
   "execution_count": 40,
   "metadata": {},
   "outputs": [],
   "source": [
    "from applyllm.pipelines import (\n",
    "    ModelCatalog,\n",
    "    PromptHelper\n",
    ")\n",
    "\n",
    "model_info = ModelCatalog.get_model_info(model_name)\n",
    "prompt_helper = PromptHelper(model_info)\n",
    "\n",
    "if model_info.model_family == ModelCatalog.GOOGLE_FAMILY:\n",
    "    query = \"\"\"BEGIN EXAMPLE\n",
    "Q: Roger has 3 tennis balls. He buys 2 more cans of tennis balls. Each can has 4 tennis balls. How many tennis balls does he have now?\n",
    "A: Roger started with 3 balls. 2 cans of 4 tennis balls each is 8 tennis balls. 3 + 8 = 11. The answer is 11.\n",
    "END EXAMPLE\n",
    "\n",
    "Your turn:            \n",
    "Q: The cafeteria had 23 apples. If they used 20 to make lunch and bought 6 more, how many apples do they have? \n",
    "\"\"\"\n",
    "    inputs=[prompt_helper.gen_prompt(query)]\n",
    "else: \n",
    "    inputs=[\"\"\"\n",
    "Q: Roger has 3 tennis balls. He buys 2 more cans of tennis balls. Each can has 4 tennis balls. How many tennis balls does he have now?\n",
    "A: Roger started with 3 balls. 2 cans of 4 tennis balls each is 8 tennis balls. 3 + 8 = 11. The answer is 11.\n",
    "Q: The cafeteria had 23 apples. If they used 20 to make lunch and bought 6 more, how many apples do they have?\n",
    "\"\"\"]"
   ]
  },
  {
   "cell_type": "code",
   "execution_count": 41,
   "metadata": {},
   "outputs": [
    {
     "name": "stdout",
     "output_type": "stream",
     "text": [
      "122\n",
      "[1, 28705, 13, 28824, 28747, 14115, 659, 28705, 28770, 19552, 16852, 28723, 650, 957, 846, 28705, 28750, 680, 277, 509, 302, 19552, 16852, 28723, 7066, 541, 659, 28705, 28781, 19552, 16852, 28723, 1602, 1287, 19552, 16852, 1235, 400, 506, 1055, 28804, 13, 28741, 28747, 14115, 2774, 395, 28705, 28770, 16852, 28723, 28705, 28750, 277, 509, 302, 28705, 28781, 19552, 16852, 1430, 349, 28705, 28783, 19552, 16852, 28723, 28705, 28770, 648, 28705, 28783, 327, 28705, 28740, 28740, 28723, 415, 4372, 349, 28705, 28740, 28740, 28723, 13, 28824, 28747, 415, 18302, 1623, 515, 553, 28705, 28750, 28770, 979, 2815, 28723, 1047, 590, 1307, 28705, 28750, 28734, 298, 1038, 9957, 304, 7620, 28705, 28784, 680, 28725, 910, 1287, 979, 2815, 511, 590, 506, 28804, 13]\n"
     ]
    }
   ],
   "source": [
    "input_test_encoded = tokenizer.encode(inputs[0])\n",
    "print(f\"{len(input_test_encoded)}\")\n",
    "print(input_test_encoded)"
   ]
  },
  {
   "cell_type": "code",
   "execution_count": 42,
   "metadata": {},
   "outputs": [
    {
     "name": "stdout",
     "output_type": "stream",
     "text": [
      "<s> \n",
      "Q: Roger has 3 tennis balls. He buys 2 more cans of tennis balls. Each can has 4 tennis balls. How many tennis balls does he have now?\n",
      "A: Roger started with 3 balls. 2 cans of 4 tennis balls each is 8 tennis balls. 3 + 8 = 11. The answer is 11.\n",
      "Q: The cafeteria had 23 apples. If they used 20 to make lunch and bought 6 more, how many apples do they have?\n",
      "\n"
     ]
    }
   ],
   "source": [
    "response_test_decoded = tokenizer.decode(input_test_encoded)\n",
    "print(response_test_decoded)"
   ]
  },
  {
   "cell_type": "markdown",
   "metadata": {},
   "source": [
    "### Load LLM"
   ]
  },
  {
   "cell_type": "code",
   "execution_count": 43,
   "metadata": {},
   "outputs": [
    {
     "name": "stdout",
     "output_type": "stream",
     "text": [
      "{'torch_dtype': torch.float16, 'device_map': 'mps', 'max_length': None, 'task': 'text-generation', 'max_new_tokens': 200, 'do_sample': True, 'temperature': 0.001, 'top_k': 3, 'top_p': 0.85, 'framework': 'pt', 'return_full_text': False}\n"
     ]
    }
   ],
   "source": [
    "# bitsandbytes quantization does not work with MPS backend\n",
    "print(pipeline_kwargs)\n",
    "\n",
    "# transformer pipeline kwargs\n",
    "tp_kwargs = {\n",
    "    \"model\": model,\n",
    "    \"tokenizer\": tokenizer,\n",
    "}\n",
    "\n",
    "tp_config = ModelConfig(model_config = tp_kwargs)\n",
    "\n",
    "generator = transformers.pipeline(\n",
    "    **tp_config.get_config(),\n",
    "    **pipeline_kwargs,\n",
    "    **token_kwargs,\n",
    "    # **compression_kwargs,\n",
    ")"
   ]
  },
  {
   "cell_type": "markdown",
   "metadata": {},
   "source": [
    "##### Install autopep8 or black extension in VSCode\n",
    "`shift + opt + F` to auto format python code"
   ]
  },
  {
   "cell_type": "code",
   "execution_count": 44,
   "metadata": {},
   "outputs": [
    {
     "name": "stdout",
     "output_type": "stream",
     "text": [
      "--------------------\n",
      "Allocated memory : 67.420227 GB\n",
      "--------------------\n"
     ]
    }
   ],
   "source": [
    "from applyllm.accelerators import AcceleratorStatus\n",
    "\n",
    "gpu_status = AcceleratorStatus.create_accelerator_status()\n",
    "gpu_status.gpu_usage()"
   ]
  },
  {
   "cell_type": "code",
   "execution_count": 45,
   "metadata": {},
   "outputs": [
    {
     "data": {
      "text/plain": [
       "'2.7.1'"
      ]
     },
     "execution_count": 45,
     "metadata": {},
     "output_type": "execute_result"
    }
   ],
   "source": [
    "import pydantic\n",
    "pydantic.__version__"
   ]
  },
  {
   "cell_type": "code",
   "execution_count": 46,
   "metadata": {},
   "outputs": [
    {
     "name": "stdout",
     "output_type": "stream",
     "text": [
      "\u001b[1mHuggingFacePipeline\u001b[0m\n",
      "Params: {'model_id': 'mistralai/Mistral-7B-Instruct-v0.2', 'model_kwargs': {'torch_dtype': torch.float16, 'device_map': 'mps', 'max_length': None, 'pad_token_id': 2, 'trust_remote_code': True}, 'pipeline_kwargs': {'torch_dtype': torch.float16, 'device_map': 'mps', 'max_length': None, 'task': 'text-generation', 'max_new_tokens': 200, 'do_sample': True, 'temperature': 0.001, 'top_k': 3, 'top_p': 0.85, 'framework': 'pt', 'return_full_text': False, 'pad_token_id': 2}}\n"
     ]
    }
   ],
   "source": [
    "from pprint import pprint\n",
    "from langchain import PromptTemplate, LLMChain\n",
    "from langchain_community.llms.huggingface_pipeline import HuggingFacePipeline\n",
    "\n",
    "\n",
    "llm = HuggingFacePipeline(\n",
    "    pipeline=generator \n",
    ")\n",
    "\n",
    "def config_tokenizer(model_name: str, config: dict, pad_token_id = 2):\n",
    "    if model_name.startswith(ModelCatalog.MISTRAL_FAMILY):\n",
    "        return {**config, \"pad_token_id\": pad_token_id}\n",
    "    else:\n",
    "        return config\n",
    "\n",
    "llm.model_id = model_name\n",
    "llm.model_kwargs = config_tokenizer(model_name=model_name, config=model_kwargs, pad_token_id=tokenizer.eos_token_id)\n",
    "llm.model_kwargs[\"trust_remote_code\"] = True\n",
    "llm.pipeline_kwargs = config_tokenizer(model_name=model_name, config=pipeline_kwargs, pad_token_id=tokenizer.eos_token_id)\n",
    "\n",
    "print(llm)\n",
    "\n",
    "# MAX_LENGTH = 1024\n",
    "# MAX_NEW_TOKENS = 200\n",
    "\n",
    "# pipeline_kwargs_config = {\n",
    "#     \"device_map\": \"auto\",\n",
    "#     \"max_length\": MAX_LENGTH, # deactivate to use max_new_tokens\n",
    "#     \"max_new_tokens\": MAX_NEW_TOKENS, # this is not taken by the model ?\n",
    "#     \"eos_token_id\": tokenizer.eos_token_id, # also making trouble (optional)\n",
    "#     \"temperature\": 0.01,\n",
    "#     \"repetition_penalty\": 1.15, # 1.15,\n",
    "# }\n",
    "# model_kwargs_config = {\n",
    "#     \"do_sample\": True, # also making trouble with langchain (optional)\n",
    "#     \"top_k\": 3, # this param result in trouble with langchain (optional)\n",
    "#     \"num_return_sequences\": 1, # (optional)\n",
    "#     \"eos_token_id\": tokenizer.eos_token_id, # also making trouble (optional)\n",
    "#     \"max_length\": MAX_LENGTH, # deactivate to use max_new_tokens\n",
    "#     \"max_new_tokens\": MAX_NEW_TOKENS, # this is not taken by the model ?\n",
    "#     \"temperature\": 0.01,\n",
    "#     \"top_p\": 0.8, # 0.95 # alternative to top_k summerized probability while do_sample=True\n",
    "#     \"repetition_penalty\": 1.15, # 1.15,\n",
    "# }\n",
    "\n",
    "template = prompt_helper.gen_prompt(\"{input}\")\n",
    "prompt = PromptTemplate(template=template, input_variables=[\"input\"])\n",
    "\n",
    "\n",
    "@time_func\n",
    "def chat(input) -> str:\n",
    "    \"\"\"\n",
    "    Args: \n",
    "        input: str - the input text to chat with the model, e.g. inputs[0]\n",
    "    \"\"\"\n",
    "    llm_chain = LLMChain(llm=llm, prompt=prompt)\n",
    "    # print(repr(llm_chain))\n",
    "    dict_response = llm_chain.invoke(input={\"input\": input})\n",
    "    return dict_response.get(\"text\", \"\")\n",
    "\n",
    "# pprint(response, indent=0, width=100)\n",
    "\n",
    "# response = chat(input=inputs[0])\n",
    "# print(response)"
   ]
  },
  {
   "cell_type": "code",
   "execution_count": 47,
   "metadata": {},
   "outputs": [
    {
     "name": "stderr",
     "output_type": "stream",
     "text": [
      "Setting `pad_token_id` to `eos_token_id`:2 for open-end generation.\n"
     ]
    },
    {
     "name": "stdout",
     "output_type": "stream",
     "text": [
      "\u001b[32;1m\u001b[1;3m[chain/start]\u001b[0m \u001b[1m[chain:LLMChain] Entering Chain run with input:\n",
      "\u001b[0m{\n",
      "  \"input\": \"\\nQ: Roger has 3 tennis balls. He buys 2 more cans of tennis balls. Each can has 4 tennis balls. How many tennis balls does he have now?\\nA: Roger started with 3 balls. 2 cans of 4 tennis balls each is 8 tennis balls. 3 + 8 = 11. The answer is 11.\\nQ: The cafeteria had 23 apples. If they used 20 to make lunch and bought 6 more, how many apples do they have?\\n\"\n",
      "}\n",
      "\u001b[32;1m\u001b[1;3m[llm/start]\u001b[0m \u001b[1m[chain:LLMChain > llm:HuggingFacePipeline] Entering LLM run with input:\n",
      "\u001b[0m{\n",
      "  \"prompts\": [\n",
      "    \"<s>[INST] You are a helpful, respectful and honest assistant.\\nAlways answer as helpfully as possible using the context text provided.\\nYour answers should only answer the question once and not have any text after the answer is done.\\n\\nIf a question does not make any sense, or is not factually coherent, explain why instead of answering something not correct.\\nIf you don't know the answer to a question, please don't share false information. Just return \\\"</s>\\\"\\n\\n\\nQ: Roger has 3 tennis balls. He buys 2 more cans of tennis balls. Each can has 4 tennis balls. How many tennis balls does he have now?\\nA: Roger started with 3 balls. 2 cans of 4 tennis balls each is 8 tennis balls. 3 + 8 = 11. The answer is 11.\\nQ: The cafeteria had 23 apples. If they used 20 to make lunch and bought 6 more, how many apples do they have?\\n\\n[/INST]\"\n",
      "  ]\n",
      "}\n",
      "\u001b[36;1m\u001b[1;3m[llm/end]\u001b[0m \u001b[1m[chain:LLMChain > llm:HuggingFacePipeline] [23.44s] Exiting LLM run with output:\n",
      "\u001b[0m{\n",
      "  \"generations\": [\n",
      "    [\n",
      "      {\n",
      "        \"text\": \" A: The cafeteria started with 23 apples. They used 20, so they had 3 apples left. Then they bought 6 more, so they have 9 apples in total. The answer is 9.\",\n",
      "        \"generation_info\": null,\n",
      "        \"type\": \"Generation\"\n",
      "      }\n",
      "    ]\n",
      "  ],\n",
      "  \"llm_output\": null,\n",
      "  \"run\": null\n",
      "}\n",
      "\u001b[36;1m\u001b[1;3m[chain/end]\u001b[0m \u001b[1m[chain:LLMChain] [23.44s] Exiting Chain run with output:\n",
      "\u001b[0m{\n",
      "  \"text\": \" A: The cafeteria started with 23 apples. They used 20, so they had 3 apples left. Then they bought 6 more, so they have 9 apples in total. The answer is 9.\"\n",
      "}\n",
      "====================\n",
      "executed: chat() python function\n",
      "walltime: 23.43863797187805 in secs.\n",
      "====================\n",
      " A: The cafeteria started with 23 apples. They used 20, so they had 3 apples left. Then they bought 6 more, so they have 9 apples in total. The answer is 9.\n"
     ]
    }
   ],
   "source": [
    "repeat = 1\n",
    "for i in range(repeat):\n",
    "    response = chat(input=inputs[0])\n",
    "    print(response)"
   ]
  },
  {
   "cell_type": "code",
   "execution_count": 48,
   "metadata": {},
   "outputs": [],
   "source": [
    "import gc\n",
    "def clear_mps_memory(tokenizer, generator):\n",
    "    \"\"\"clear the MPS memory\"\"\"\n",
    "    if tokenizer is not None:\n",
    "        del tokenizer\n",
    "    if generator is not None:\n",
    "        # need to move the model to cpu before delete.\n",
    "        generator.model.cpu()\n",
    "        del generator\n",
    "    gc.collect()\n",
    "    torch.mps.empty_cache()\n",
    "    # report the GPU usage\n",
    "    gpu_status.gpu_usage()\n"
   ]
  },
  {
   "cell_type": "code",
   "execution_count": 49,
   "metadata": {},
   "outputs": [
    {
     "name": "stdout",
     "output_type": "stream",
     "text": [
      "--------------------\n",
      "Allocated memory : 67.453430 GB\n",
      "--------------------\n"
     ]
    }
   ],
   "source": [
    "gpu_status.gpu_usage()"
   ]
  },
  {
   "cell_type": "code",
   "execution_count": 50,
   "metadata": {},
   "outputs": [],
   "source": [
    "# inputs2 = [\"Which animal is the largest mammal?\"]\n",
    "# inputs2 = [\"Can you tell me something about chron's disease?\"]\n",
    "\n",
    "# hallucination https://www.findacode.com/snomed/34000006--crohns-disease.html\n",
    "\n",
    "# real answer is 34000006, probably need a RAG \n",
    "# inputs2 = [\"Which snomed ct code has chron's disease?\"]\n",
    "\n",
    "# inputs2 = [\"Can you tell me more about the company nordcloud?\"]\n",
    "inputs2 = [\"Can you tell me more about the company nordcloud in munich?\"]"
   ]
  },
  {
   "cell_type": "code",
   "execution_count": 51,
   "metadata": {},
   "outputs": [
    {
     "name": "stderr",
     "output_type": "stream",
     "text": [
      "Setting `pad_token_id` to `eos_token_id`:2 for open-end generation.\n"
     ]
    },
    {
     "name": "stdout",
     "output_type": "stream",
     "text": [
      "\u001b[32;1m\u001b[1;3m[chain/start]\u001b[0m \u001b[1m[chain:LLMChain] Entering Chain run with input:\n",
      "\u001b[0m{\n",
      "  \"input\": \"Can you tell me more about the company nordcloud in munich?\"\n",
      "}\n",
      "\u001b[32;1m\u001b[1;3m[llm/start]\u001b[0m \u001b[1m[chain:LLMChain > llm:HuggingFacePipeline] Entering LLM run with input:\n",
      "\u001b[0m{\n",
      "  \"prompts\": [\n",
      "    \"<s>[INST] You are a helpful, respectful and honest assistant.\\nAlways answer as helpfully as possible using the context text provided.\\nYour answers should only answer the question once and not have any text after the answer is done.\\n\\nIf a question does not make any sense, or is not factually coherent, explain why instead of answering something not correct.\\nIf you don't know the answer to a question, please don't share false information. Just return \\\"</s>\\\"\\n\\nCan you tell me more about the company nordcloud in munich?\\n[/INST]\"\n",
      "  ]\n",
      "}\n",
      "\u001b[36;1m\u001b[1;3m[llm/end]\u001b[0m \u001b[1m[chain:LLMChain > llm:HuggingFacePipeline] [10.83s] Exiting LLM run with output:\n",
      "\u001b[0m{\n",
      "  \"generations\": [\n",
      "    [\n",
      "      {\n",
      "        \"text\": \" NordCloud is a European cloud technology company that provides cloud services, including infrastructure as a service (IaaS), platform as a service (PaaS), and software as a service (SaaS), using Google Cloud Platform. They have offices in several European countries, including Munich, but I don't have specific information about their operations or presence in Munich beyond that.\",\n",
      "        \"generation_info\": null,\n",
      "        \"type\": \"Generation\"\n",
      "      }\n",
      "    ]\n",
      "  ],\n",
      "  \"llm_output\": null,\n",
      "  \"run\": null\n",
      "}\n",
      "\u001b[36;1m\u001b[1;3m[chain/end]\u001b[0m \u001b[1m[chain:LLMChain] [10.83s] Exiting Chain run with output:\n",
      "\u001b[0m{\n",
      "  \"text\": \" NordCloud is a European cloud technology company that provides cloud services, including infrastructure as a service (IaaS), platform as a service (PaaS), and software as a service (SaaS), using Google Cloud Platform. They have offices in several European countries, including Munich, but I don't have specific information about their operations or presence in Munich beyond that.\"\n",
      "}\n",
      "====================\n",
      "executed: chat() python function\n",
      "walltime: 10.828521013259888 in secs.\n",
      "====================\n",
      " NordCloud is a European cloud technology company that provides cloud services, including infrastructure as a service (IaaS), platform as a service (PaaS), and software as a service (SaaS), using Google Cloud Platform. They have offices in several European countries, including Munich, but I don't have specific information about their operations or presence in Munich beyond that.\n"
     ]
    }
   ],
   "source": [
    "print(chat(input=inputs2[0]))"
   ]
  },
  {
   "cell_type": "markdown",
   "metadata": {},
   "source": [
    "## Define agent\n",
    "* https://python.langchain.com/docs/modules/agents/\n",
    "* https://python.langchain.com/docs/modules/agents/quick_start/\n",
    "* https://python.langchain.com/docs/modules/agents/how_to/custom_agent/\n",
    "\n",
    "## Gemma with custom langchain tool \n",
    "* https://github.com/Ashufet/LangChain_ReAct-Agent-with-Function-Calling_Ollama-Gemma-LLM_LangSmith\n",
    "* ReAct Agent: https://www.youtube.com/watch?v=exYUJcz4uZs\n",
    "\n",
    "## Ollama local host endpoint with LangChain\n",
    "* https://medium.com/the-constellar-digital-technology-blog/geek-out-time-play-with-langchain-2-locally-with-gemma-96c6ca370649\n",
    "\n",
    "## ReAct Agent\n",
    "* https://python.langchain.com/docs/modules/agents/agent_types/react/\n",
    "\n",
    "## Retrieval Agent examples\n",
    "* https://github.com/pinecone-io/examples/blob/master/learn/generation/langchain/handbook/08-langchain-retrieval-agent.ipynb"
   ]
  },
  {
   "cell_type": "code",
   "execution_count": 52,
   "metadata": {},
   "outputs": [],
   "source": [
    "embed_model_map = {\n",
    "    \"sentence-transformers\": \"sentence-transformers/all-MiniLM-L12-v2\", # 384\n",
    "    \"baai\" : \"BAAI/bge-base-en-v1.5\" # 768 embedding dims\n",
    "}\n",
    "\n",
    "embed_model_vendor = \"sentence-transformers\"\n",
    "# embed_model_vendor = \"baai\""
   ]
  },
  {
   "cell_type": "code",
   "execution_count": 53,
   "metadata": {},
   "outputs": [],
   "source": [
    "embed_model_name = embed_model_map[embed_model_vendor]"
   ]
  },
  {
   "cell_type": "code",
   "execution_count": 54,
   "metadata": {},
   "outputs": [
    {
     "name": "stderr",
     "output_type": "stream",
     "text": [
      "/Users/yingding/VENV/agents3.11/lib/python3.11/site-packages/huggingface_hub/file_download.py:1132: FutureWarning: `resume_download` is deprecated and will be removed in version 1.0.0. Downloads always resume when possible. If you want to force a new download, use `force_download=True`.\n",
      "  warnings.warn(\n"
     ]
    },
    {
     "data": {
      "text/plain": [
       "ModelConfig(model_config={'model_name': 'sentence-transformers/all-MiniLM-L12-v2', 'model_kwargs': {'device': 'cpu'}, 'encode_kwargs': {'normalize_embeddings': True}})"
      ]
     },
     "execution_count": 54,
     "metadata": {},
     "output_type": "execute_result"
    }
   ],
   "source": [
    "from langchain_community.embeddings import HuggingFaceEmbeddings\n",
    "\n",
    "model_config = {\n",
    "    \"model_name\" : embed_model_name,\n",
    "    \"model_kwargs\": {'device': 'cpu'},\n",
    "    \"encode_kwargs\": {'normalize_embeddings': True}\n",
    "}\n",
    "embed_config = ModelConfig(model_config=model_config)\n",
    "\n",
    "# is downloaded at \"{MODEL_CACHE_DIR}/models/torch/sentence_transformer\" folder\n",
    "embed_model = HuggingFaceEmbeddings(\n",
    "    **embed_config.get_config()\n",
    ")\n",
    "\n",
    "embed_config"
   ]
  },
  {
   "cell_type": "code",
   "execution_count": 55,
   "metadata": {},
   "outputs": [],
   "source": [
    "from langchain_community.document_loaders import WebBaseLoader\n",
    "from langchain_community.vectorstores import FAISS\n",
    "from langchain_text_splitters import RecursiveCharacterTextSplitter\n",
    "from applyllm.utils import token_size\n",
    "from applyllm.pipelines import ModelConfig\n",
    "\n",
    "MAX_POSITION_EMBEDDINGS = 1000 # 4096\n",
    "CHUNK_SIZE = (MAX_POSITION_EMBEDDINGS // 1000) * 1000\n",
    "\n",
    "# Config splitter\n",
    "model_config = {\n",
    "    # Set a really small chunk size, just to show.\n",
    "    \"chunk_size\": CHUNK_SIZE,\n",
    "    \"chunk_overlap\": 200,\n",
    "    \"length_function\": token_size, # len,\n",
    "    \"is_separator_regex\": False,\n",
    "}\n",
    "\n",
    "splitter_config = ModelConfig(model_config=model_config)\n",
    "\n",
    "loader = WebBaseLoader(\"https://nordcloud.com/company/\", encoding=\"utf-8\")\n",
    "docs = loader.load()\n",
    "documents = RecursiveCharacterTextSplitter(\n",
    "    **splitter_config.get_config()\n",
    ").split_documents(docs)\n",
    "\n",
    "vector = FAISS.from_documents(documents, embed_model)\n",
    "retriever = vector.as_retriever()"
   ]
  },
  {
   "cell_type": "code",
   "execution_count": 56,
   "metadata": {},
   "outputs": [
    {
     "data": {
      "text/plain": [
       "Document(page_content='Tuomas Toropainen\\nCFO Office\\nTuomas is our numbers guy. With a finance career spanning a wide range of industries, he’s on a mission to challenge traditional perceptions of finance leaders. Like Nordcloud, he’s forward-thinking, and the words ‘But that’s how we’ve always done it!’ will never leave his mouth.\\n\\n\\n\\n\\n\\n\\n\\n\\n\\n\\n\\n\\n\\n\\n\\n\\n\\n\\nProud to be cloud native.\\n\\n\\n\\n\\n\\n\\n\\n\\nWhy NordcloudWe help you use the cloud to become stronger, fitter and faster.\\nLearn more \\n\\nOur ApproachWe empower your business to drive value, velocity and growth with the public cloud.\\nLearn more \\n\\n\\n\\n\\n\\nCompany Timeline. \\n\\n\\n\\n2006A cloud-native infrastructure and web application development company is born in Finland!\\n2011Nordcloud was established – with a focus on helping customers leverage public cloud infrastructure and DevOps. Growth skyrockets.\\nEsa Kinnunen appointed as the first Nordcloud CEO.\\n2013One of our original founders, Pyry Lehdonvirta, becomes a published author with HTML5 as an Application, a go-to resource for application designers and developers – cementing our position as a pioneer in emerging technologies.\\nNordcloud expands into its second country: Sweden.\\n2014Growth gets serious as Nordcloud joins the 2-year EIT Digital Accelerator to kickstart European expansion.\\nNordcloud becomes an AWS Premier Consulting partner.\\nExpansion continues, with new Nordcloud offices in Denmark and the UK.\\n2015We seize a leadership position in the cloud application design and development space by creating a living style guide, a predecessor of modern design systems.\\nNordcloud secures €1 million funding from Finnvera, the Finnish public financing company, to help drive expansion. We open new offices in Norway and Germany.\\nAs one of the world’s first AWS Lambda partners, we start delivering web-based applications based on cloud-native, serverless architectures.\\n2016Nordcloud enters the Netherlands.\\n2017Nordcloud is recognised in Gartner’s first-ever Magic Quadrant for Public Cloud Infrastructure Managed Service Providers, with Gartner particularly highlighting our multi-cloud expertise.\\nWe open our first office in Poland.\\n2018Microsoft names Nordcloud a finalist for Partner of the Year.\\nFor the second year running, Nordcloud is recognised in Gartner’s Magic Quadrant for Public Cloud Infrastructure Professional and Managed Services.\\nSwitzerland becomes the ninth country with a Nordcloud presence.\\n2019Microsoft names us Partner of the Year.\\nThe Financial Times names us as one of the 1,000 fastest-growing companies in Europe as part of its FT1000 ranking.\\nWe open an office in Austria, giving us a presence in 10 countries.\\n2020Gartner names Nordcloud the top cloud-native managed services provider in its Magic Quadrant for Public Cloud Infrastructure, Professional and Managed Services, Worldwide.\\nNordcloud achieves Google Cloud specialisations in cloud migration and training.\\nMicrosoft names us Partner of the Year.\\nIBM acquires Nordcloud, giving us new superpowers and scale for bringing cloud-native expertise to enterprise customers.\\n2021We officially launch Nordcloud Klarity, our cloud management and FinOps SaaS product. We originally developed it for our own managed services team, but based on popular demand, made it generally available for people looking to get more automation, visibility and cost control with their clouds.\\nMicrosoft names us Azure Infra Modernisation Partner of the Year.\\nAWS names us AWS Migration Partner of the Year.\\nNordcloud achieves VMware Master Services Competency in VMware Cloud on AWS, making us one of the rare partners to have such high credentials across both VMware and AWS.\\nNordcloud achieves a Google Cloud specialisation in infrastructure services.\\nGartner recognises Nordcloud as a Visionary in its Magic Quadrant for Public Cloud IT Transformation Services.\\nNordcloud becomes a signatory of Microsoft’s Partner Pledge, which is a commitment to helping people use technology in the right way and for the greater good.\\nNordcloud is recognised as a Great Place to Work in Austria, Denmark, Finland, Germany, Netherlands, Poland and the UK.\\n2022Nordcloud wins a major cloud agreement with Valtori, the IT arm of the Finnish government. This cloud partnership will help the government move faster towards cloud while maintaining robust security and data protection.\\nWe hit 1000 AWS certifications and receive an AWS Partner Network (APN) Certification Distinction.\\nWe hit 1000 Microsoft certifications.\\n2023Nordcloud’s founder and CEO Fernando Herrera steps down after a decade of leading the company. Jan Kritz, formerly COO, steps up to lead Nordcloud as CEO in an exciting new chapter.\\nNordcloud has been chosen by Microsoft as Western Europe Partner of the Year for Azure cloud solutions.\\n2024Nordcloud continues to drive innovation in cloud, enabling AI excellence in public cloud and revolutionising the automation of Platform Engineering Services.\\n \\n\\n\\n\\n\\nOur Offices. \\n\\n\\nAmsterdamNordcloud B.V. Netherlands\\nJohan Huizingalaan 765\\n1066 VH Amsterdam, NetherlandsShow routeBarcelonaVIEWNEXT\\nCarrer Jesús Serra Santamans, 4\\n08174 Sant Cugat del Vallès, BarcelonaShow routeBerlinSpaces c/o Nordcloud Germany GmbH\\nJägerstraße 54-55\\n10117 BerlinShow routeBernNordcloud Switzerland GmbH\\nZentroom\\nBahnhofplatz 10b\\n3011 BernShow routeCopenhagenNordcloud ApS Denmark\\nAmager Fælledvej 106\\n2300 København SShow routeGothenburgNordcloud Hosting Sweden AB\\nJohann Willins Gata 8\\n416 64 Göteborg\\n(Johan Willins Gata 6 for visits and post)Show routeHelsinkiNordcloud Oy\\nPohjoisesplanadi 37A\\n00100 HelsinkiShow routeJyväskyläNordcloud Oy\\nVapaudenkatu 60\\n40100 JyväskyläShow routeJönköpingNordcloud Hosting Sweden AB\\nÖstra Storgatan 9\\n553 20 JönköpingShow routeKuopioNordcloud Oy\\nMicrokatu 1 (M)\\n70150 Kuopio (Novapolis)Show routeLondonIBM United Kingdom Ltd\\n20 York Road\\nLondon SE1 7NDShow routeMadridVIEWNEXT\\nAv. de Burgos, 8-A\\n28036 MadridShow routeMalmöNordcloud Hosting Sweden AB\\nStortorget 11\\n211 22 MalmöShow routeManchesterNordcloud Ltd\\nHana, Landmark, St Peter’s Square\\nManchester M1 4BPShow routeMunichNordcloud Deutschland GmbH (IBM)\\nMies-van-der-Rohe-Straße 6\\nTower 1 / 28 OG\\n80807 MünchenShow routeOsloNordcloud AS Norway\\nGrundingen 6\\n0250 OsloShow routeOuluNordcloud Oy\\nElektroniikkatie 13\\n90580 Oulu (Technopolis)Show routePoznańNordcloud sp z.o.o. Poland\\nKupiec Poznański, 5th floor\\nPlac Wiosny Ludów 2\\n61-831 PoznańShow routeSaloNordcloud Oy\\nSalo IoT Park Oy\\nJoensuunkatu 7\\n24100 SaloShow routeStockholmNordcloud Hosting Sweden AB\\nDrottninggatan 68, vån 5\\n111 21 StockholmShow routeViennaNordcloud, Austria\\nObere Donaustraße 95\\n1020 ViennaShow routeWarsawNordcloud sp z.o.o. Poland\\nMennica Legacy Tower\\nul. Prosta 20\\n00-850 WarsawShow routeWrocławNordcloud sp z.o.o. Poland\\nSpaces Wroclavia\\nul. Sucha 3\\n50-086 WrocławShow routeZugNordcloud Switzerland GmbH\\nGrafenauweg 8\\n6300 ZugShow route \\n\\n\\n\\n\\n\\n\\n\\n\\n\\nGet in Touch.Let’s discuss how we can help with your cloud journey. Our experts are standing by to talk about your migration, modernisation, development and skills challenges.\\n \\n\\n\\n\\n \\n\\n\\n\\n\\n \\n\\n\\n\\n\\n\\n\\t\\t\\t\\t\\t\\t\\t\\t\\t\\t\\t\\tIlja’s passion and tech knowledge help customers transform how they manage infrastructure and develop apps in cloud.\\t\\t\\t\\t\\t\\t\\t\\t\\t\\t\\t\\n\\n\\nIlja Summala\\nLinkedIn', metadata={'source': 'https://nordcloud.com/company/', 'title': 'About Us – Cloud Services – Nordcloud', 'description': 'Nordcloud is a European cloud leader featured in Gartner’s Magic Quadrant. Learn how we help with Microsoft Azure, AWS and Google Cloud.', 'language': 'en-GB'})"
      ]
     },
     "execution_count": 56,
     "metadata": {},
     "output_type": "execute_result"
    }
   ],
   "source": [
    "# retriever.get_relevant_documents(inputs2[0])[0]\n",
    "retriever.invoke(input=inputs2[0])[0]"
   ]
  },
  {
   "cell_type": "code",
   "execution_count": 57,
   "metadata": {},
   "outputs": [
    {
     "data": {
      "text/plain": [
       "RetrievalQA(verbose=True, combine_documents_chain=MapReduceDocumentsChain(llm_chain=LLMChain(prompt=PromptTemplate(input_variables=['context', 'question'], template='Use the following portion of a long document to see if any of the text is relevant to answer the question. \\nReturn any relevant text verbatim.\\n{context}\\nQuestion: {question}\\nRelevant text, if any:'), llm=HuggingFacePipeline(pipeline=<transformers.pipelines.text_generation.TextGenerationPipeline object at 0x340107810>, model_id='mistralai/Mistral-7B-Instruct-v0.2', model_kwargs={'torch_dtype': torch.float16, 'device_map': 'mps', 'max_length': None, 'pad_token_id': 2, 'trust_remote_code': True}, pipeline_kwargs={'torch_dtype': torch.float16, 'device_map': 'mps', 'max_length': None, 'task': 'text-generation', 'max_new_tokens': 200, 'do_sample': True, 'temperature': 0.001, 'top_k': 3, 'top_p': 0.85, 'framework': 'pt', 'return_full_text': False, 'pad_token_id': 2})), reduce_documents_chain=ReduceDocumentsChain(combine_documents_chain=StuffDocumentsChain(llm_chain=LLMChain(prompt=PromptTemplate(input_variables=['question', 'summaries'], template=\"Given the following extracted parts of a long document and a question, create a final answer. \\nIf you don't know the answer, just say that you don't know. Don't try to make up an answer.\\n\\nQUESTION: Which state/country's law governs the interpretation of the contract?\\n=========\\nContent: This Agreement is governed by English law and the parties submit to the exclusive jurisdiction of the English courts in  relation to any dispute (contractual or non-contractual) concerning this Agreement save that either party may apply to any court for an  injunction or other relief to protect its Intellectual Property Rights.\\n\\nContent: No Waiver. Failure or delay in exercising any right or remedy under this Agreement shall not constitute a waiver of such (or any other)  right or remedy.\\n\\n11.7 Severability. The invalidity, illegality or unenforceability of any term (or part of a term) of this Agreement shall not affect the continuation  in force of the remainder of the term (if any) and this Agreement.\\n\\n11.8 No Agency. Except as expressly stated otherwise, nothing in this Agreement shall create an agency, partnership or joint venture of any  kind between the parties.\\n\\n11.9 No Third-Party Beneficiaries.\\n\\nContent: (b) if Google believes, in good faith, that the Distributor has violated or caused Google to violate any Anti-Bribery Laws (as  defined in Clause 8.5) or that such a violation is reasonably likely to occur,\\n=========\\nFINAL ANSWER: This Agreement is governed by English law.\\n\\nQUESTION: What did the president say about Michael Jackson?\\n=========\\nContent: Madam Speaker, Madam Vice President, our First Lady and Second Gentleman. Members of Congress and the Cabinet. Justices of the Supreme Court. My fellow Americans.  \\n\\nLast year COVID-19 kept us apart. This year we are finally together again. \\n\\nTonight, we meet as Democrats Republicans and Independents. But most importantly as Americans. \\n\\nWith a duty to one another to the American people to the Constitution. \\n\\nAnd with an unwavering resolve that freedom will always triumph over tyranny. \\n\\nSix days ago, Russia’s Vladimir Putin sought to shake the foundations of the free world thinking he could make it bend to his menacing ways. But he badly miscalculated. \\n\\nHe thought he could roll into Ukraine and the world would roll over. Instead he met a wall of strength he never imagined. \\n\\nHe met the Ukrainian people. \\n\\nFrom President Zelenskyy to every Ukrainian, their fearlessness, their courage, their determination, inspires the world. \\n\\nGroups of citizens blocking tanks with their bodies. Everyone from students to retirees teachers turned soldiers defending their homeland.\\n\\nContent: And we won’t stop. \\n\\nWe have lost so much to COVID-19. Time with one another. And worst of all, so much loss of life. \\n\\nLet’s use this moment to reset. Let’s stop looking at COVID-19 as a partisan dividing line and see it for what it is: A God-awful disease.  \\n\\nLet’s stop seeing each other as enemies, and start seeing each other for who we really are: Fellow Americans.  \\n\\nWe can’t change how divided we’ve been. But we can change how we move forward—on COVID-19 and other issues we must face together. \\n\\nI recently visited the New York City Police Department days after the funerals of Officer Wilbert Mora and his partner, Officer Jason Rivera. \\n\\nThey were responding to a 9-1-1 call when a man shot and killed them with a stolen gun. \\n\\nOfficer Mora was 27 years old. \\n\\nOfficer Rivera was 22. \\n\\nBoth Dominican Americans who’d grown up on the same streets they later chose to patrol as police officers. \\n\\nI spoke with their families and told them that we are forever in debt for their sacrifice, and we will carry on their mission to restore the trust and safety every community deserves.\\n\\nContent: And a proud Ukrainian people, who have known 30 years  of independence, have repeatedly shown that they will not tolerate anyone who tries to take their country backwards.  \\n\\nTo all Americans, I will be honest with you, as I’ve always promised. A Russian dictator, invading a foreign country, has costs around the world. \\n\\nAnd I’m taking robust action to make sure the pain of our sanctions  is targeted at Russia’s economy. And I will use every tool at our disposal to protect American businesses and consumers. \\n\\nTonight, I can announce that the United States has worked with 30 other countries to release 60 Million barrels of oil from reserves around the world.  \\n\\nAmerica will lead that effort, releasing 30 Million barrels from our own Strategic Petroleum Reserve. And we stand ready to do more if necessary, unified with our allies.  \\n\\nThese steps will help blunt gas prices here at home. And I know the news about what’s happening can seem alarming. \\n\\nBut I want you to know that we are going to be okay.\\n\\nContent: More support for patients and families. \\n\\nTo get there, I call on Congress to fund ARPA-H, the Advanced Research Projects Agency for Health. \\n\\nIt’s based on DARPA—the Defense Department project that led to the Internet, GPS, and so much more.  \\n\\nARPA-H will have a singular purpose—to drive breakthroughs in cancer, Alzheimer’s, diabetes, and more. \\n\\nA unity agenda for the nation. \\n\\nWe can do this. \\n\\nMy fellow Americans—tonight , we have gathered in a sacred space—the citadel of our democracy. \\n\\nIn this Capitol, generation after generation, Americans have debated great questions amid great strife, and have done great things. \\n\\nWe have fought for freedom, expanded liberty, defeated totalitarianism and terror. \\n\\nAnd built the strongest, freest, and most prosperous nation the world has ever known. \\n\\nNow is the hour. \\n\\nOur moment of responsibility. \\n\\nOur test of resolve and conscience, of history itself. \\n\\nIt is in this moment that our character is formed. Our purpose is found. Our future is forged. \\n\\nWell I know this nation.\\n=========\\nFINAL ANSWER: The president did not mention Michael Jackson.\\n\\nQUESTION: {question}\\n=========\\n{summaries}\\n=========\\nFINAL ANSWER:\"), llm=HuggingFacePipeline(pipeline=<transformers.pipelines.text_generation.TextGenerationPipeline object at 0x340107810>, model_id='mistralai/Mistral-7B-Instruct-v0.2', model_kwargs={'torch_dtype': torch.float16, 'device_map': 'mps', 'max_length': None, 'pad_token_id': 2, 'trust_remote_code': True}, pipeline_kwargs={'torch_dtype': torch.float16, 'device_map': 'mps', 'max_length': None, 'task': 'text-generation', 'max_new_tokens': 200, 'do_sample': True, 'temperature': 0.001, 'top_k': 3, 'top_p': 0.85, 'framework': 'pt', 'return_full_text': False, 'pad_token_id': 2})), document_variable_name='summaries')), document_variable_name='context'), return_source_documents=True, retriever=VectorStoreRetriever(tags=['FAISS', 'HuggingFaceEmbeddings'], vectorstore=<langchain_community.vectorstores.faiss.FAISS object at 0x7308190c10>))"
      ]
     },
     "execution_count": 57,
     "metadata": {},
     "output_type": "execute_result"
    }
   ],
   "source": [
    "from langchain.chains import RetrievalQA\n",
    "\n",
    "chain_type = \"map_reduce\"\n",
    "# chain_type = \"stuff\"\n",
    "# chain_type = \"refine\" \n",
    "qa = RetrievalQA.from_chain_type(\n",
    "    llm=llm,\n",
    "    chain_type=chain_type,\n",
    "    retriever=retriever,\n",
    "    # combine_docs_chain_kwargs={'prompt': reduce_prompt_template},\n",
    "    # chain_type_kwargs={\"map_prompt\": map_prompt_template},\n",
    "    return_source_documents=True,\n",
    "    verbose=True,\n",
    "    )\n",
    "\n",
    "qa"
   ]
  },
  {
   "cell_type": "code",
   "execution_count": 58,
   "metadata": {},
   "outputs": [
    {
     "name": "stderr",
     "output_type": "stream",
     "text": [
      "Setting `pad_token_id` to `eos_token_id`:2 for open-end generation.\n"
     ]
    },
    {
     "name": "stdout",
     "output_type": "stream",
     "text": [
      "\u001b[32;1m\u001b[1;3m[chain/start]\u001b[0m \u001b[1m[chain:RetrievalQA] Entering Chain run with input:\n",
      "\u001b[0m{\n",
      "  \"query\": \"Can you tell me more about the company nordcloud in munich?\"\n",
      "}\n",
      "\u001b[32;1m\u001b[1;3m[chain/start]\u001b[0m \u001b[1m[chain:RetrievalQA > chain:MapReduceDocumentsChain] Entering Chain run with input:\n",
      "\u001b[0m[inputs]\n",
      "\u001b[32;1m\u001b[1;3m[chain/start]\u001b[0m \u001b[1m[chain:RetrievalQA > chain:MapReduceDocumentsChain > chain:LLMChain] Entering Chain run with input:\n",
      "\u001b[0m{\n",
      "  \"input_list\": [\n",
      "    {\n",
      "      \"context\": \"Tuomas Toropainen\\nCFO Office\\nTuomas is our numbers guy. With a finance career spanning a wide range of industries, he’s on a mission to challenge traditional perceptions of finance leaders. Like Nordcloud, he’s forward-thinking, and the words ‘But that’s how we’ve always done it!’ will never leave his mouth.\\n\\n\\n\\n\\n\\n\\n\\n\\n\\n\\n\\n\\n\\n\\n\\n\\n\\n\\nProud to be cloud native.\\n\\n\\n\\n\\n\\n\\n\\n\\nWhy NordcloudWe help you use the cloud to become stronger, fitter and faster.\\nLearn more \\n\\nOur ApproachWe empower your business to drive value, velocity and growth with the public cloud.\\nLearn more \\n\\n\\n\\n\\n\\nCompany Timeline. \\n\\n\\n\\n2006A cloud-native infrastructure and web application development company is born in Finland!\\n2011Nordcloud was established – with a focus on helping customers leverage public cloud infrastructure and DevOps. Growth skyrockets.\\nEsa Kinnunen appointed as the first Nordcloud CEO.\\n2013One of our original founders, Pyry Lehdonvirta, becomes a published author with HTML5 as an Application, a go-to resource for application designers and developers – cementing our position as a pioneer in emerging technologies.\\nNordcloud expands into its second country: Sweden.\\n2014Growth gets serious as Nordcloud joins the 2-year EIT Digital Accelerator to kickstart European expansion.\\nNordcloud becomes an AWS Premier Consulting partner.\\nExpansion continues, with new Nordcloud offices in Denmark and the UK.\\n2015We seize a leadership position in the cloud application design and development space by creating a living style guide, a predecessor of modern design systems.\\nNordcloud secures €1 million funding from Finnvera, the Finnish public financing company, to help drive expansion. We open new offices in Norway and Germany.\\nAs one of the world’s first AWS Lambda partners, we start delivering web-based applications based on cloud-native, serverless architectures.\\n2016Nordcloud enters the Netherlands.\\n2017Nordcloud is recognised in Gartner’s first-ever Magic Quadrant for Public Cloud Infrastructure Managed Service Providers, with Gartner particularly highlighting our multi-cloud expertise.\\nWe open our first office in Poland.\\n2018Microsoft names Nordcloud a finalist for Partner of the Year.\\nFor the second year running, Nordcloud is recognised in Gartner’s Magic Quadrant for Public Cloud Infrastructure Professional and Managed Services.\\nSwitzerland becomes the ninth country with a Nordcloud presence.\\n2019Microsoft names us Partner of the Year.\\nThe Financial Times names us as one of the 1,000 fastest-growing companies in Europe as part of its FT1000 ranking.\\nWe open an office in Austria, giving us a presence in 10 countries.\\n2020Gartner names Nordcloud the top cloud-native managed services provider in its Magic Quadrant for Public Cloud Infrastructure, Professional and Managed Services, Worldwide.\\nNordcloud achieves Google Cloud specialisations in cloud migration and training.\\nMicrosoft names us Partner of the Year.\\nIBM acquires Nordcloud, giving us new superpowers and scale for bringing cloud-native expertise to enterprise customers.\\n2021We officially launch Nordcloud Klarity, our cloud management and FinOps SaaS product. We originally developed it for our own managed services team, but based on popular demand, made it generally available for people looking to get more automation, visibility and cost control with their clouds.\\nMicrosoft names us Azure Infra Modernisation Partner of the Year.\\nAWS names us AWS Migration Partner of the Year.\\nNordcloud achieves VMware Master Services Competency in VMware Cloud on AWS, making us one of the rare partners to have such high credentials across both VMware and AWS.\\nNordcloud achieves a Google Cloud specialisation in infrastructure services.\\nGartner recognises Nordcloud as a Visionary in its Magic Quadrant for Public Cloud IT Transformation Services.\\nNordcloud becomes a signatory of Microsoft’s Partner Pledge, which is a commitment to helping people use technology in the right way and for the greater good.\\nNordcloud is recognised as a Great Place to Work in Austria, Denmark, Finland, Germany, Netherlands, Poland and the UK.\\n2022Nordcloud wins a major cloud agreement with Valtori, the IT arm of the Finnish government. This cloud partnership will help the government move faster towards cloud while maintaining robust security and data protection.\\nWe hit 1000 AWS certifications and receive an AWS Partner Network (APN) Certification Distinction.\\nWe hit 1000 Microsoft certifications.\\n2023Nordcloud’s founder and CEO Fernando Herrera steps down after a decade of leading the company. Jan Kritz, formerly COO, steps up to lead Nordcloud as CEO in an exciting new chapter.\\nNordcloud has been chosen by Microsoft as Western Europe Partner of the Year for Azure cloud solutions.\\n2024Nordcloud continues to drive innovation in cloud, enabling AI excellence in public cloud and revolutionising the automation of Platform Engineering Services.\\n \\n\\n\\n\\n\\nOur Offices. \\n\\n\\nAmsterdamNordcloud B.V. Netherlands\\nJohan Huizingalaan 765\\n1066 VH Amsterdam, NetherlandsShow routeBarcelonaVIEWNEXT\\nCarrer Jesús Serra Santamans, 4\\n08174 Sant Cugat del Vallès, BarcelonaShow routeBerlinSpaces c/o Nordcloud Germany GmbH\\nJägerstraße 54-55\\n10117 BerlinShow routeBernNordcloud Switzerland GmbH\\nZentroom\\nBahnhofplatz 10b\\n3011 BernShow routeCopenhagenNordcloud ApS Denmark\\nAmager Fælledvej 106\\n2300 København SShow routeGothenburgNordcloud Hosting Sweden AB\\nJohann Willins Gata 8\\n416 64 Göteborg\\n(Johan Willins Gata 6 for visits and post)Show routeHelsinkiNordcloud Oy\\nPohjoisesplanadi 37A\\n00100 HelsinkiShow routeJyväskyläNordcloud Oy\\nVapaudenkatu 60\\n40100 JyväskyläShow routeJönköpingNordcloud Hosting Sweden AB\\nÖstra Storgatan 9\\n553 20 JönköpingShow routeKuopioNordcloud Oy\\nMicrokatu 1 (M)\\n70150 Kuopio (Novapolis)Show routeLondonIBM United Kingdom Ltd\\n20 York Road\\nLondon SE1 7NDShow routeMadridVIEWNEXT\\nAv. de Burgos, 8-A\\n28036 MadridShow routeMalmöNordcloud Hosting Sweden AB\\nStortorget 11\\n211 22 MalmöShow routeManchesterNordcloud Ltd\\nHana, Landmark, St Peter’s Square\\nManchester M1 4BPShow routeMunichNordcloud Deutschland GmbH (IBM)\\nMies-van-der-Rohe-Straße 6\\nTower 1 / 28 OG\\n80807 MünchenShow routeOsloNordcloud AS Norway\\nGrundingen 6\\n0250 OsloShow routeOuluNordcloud Oy\\nElektroniikkatie 13\\n90580 Oulu (Technopolis)Show routePoznańNordcloud sp z.o.o. Poland\\nKupiec Poznański, 5th floor\\nPlac Wiosny Ludów 2\\n61-831 PoznańShow routeSaloNordcloud Oy\\nSalo IoT Park Oy\\nJoensuunkatu 7\\n24100 SaloShow routeStockholmNordcloud Hosting Sweden AB\\nDrottninggatan 68, vån 5\\n111 21 StockholmShow routeViennaNordcloud, Austria\\nObere Donaustraße 95\\n1020 ViennaShow routeWarsawNordcloud sp z.o.o. Poland\\nMennica Legacy Tower\\nul. Prosta 20\\n00-850 WarsawShow routeWrocławNordcloud sp z.o.o. Poland\\nSpaces Wroclavia\\nul. Sucha 3\\n50-086 WrocławShow routeZugNordcloud Switzerland GmbH\\nGrafenauweg 8\\n6300 ZugShow route \\n\\n\\n\\n\\n\\n\\n\\n\\n\\nGet in Touch.Let’s discuss how we can help with your cloud journey. Our experts are standing by to talk about your migration, modernisation, development and skills challenges.\\n \\n\\n\\n\\n \\n\\n\\n\\n\\n \\n\\n\\n\\n\\n\\n\\t\\t\\t\\t\\t\\t\\t\\t\\t\\t\\t\\tIlja’s passion and tech knowledge help customers transform how they manage infrastructure and develop apps in cloud.\\t\\t\\t\\t\\t\\t\\t\\t\\t\\t\\t\\n\\n\\nIlja Summala\\nLinkedIn\",\n",
      "      \"question\": \"Can you tell me more about the company nordcloud in munich?\"\n",
      "    },\n",
      "    {\n",
      "      \"context\": \"Get in Touch.Let’s discuss how we can help with your cloud journey. Our experts are standing by to talk about your migration, modernisation, development and skills challenges.\\n \\n\\n\\n\\n \\n\\n\\n\\n\\n \\n\\n\\n\\n\\n\\n\\t\\t\\t\\t\\t\\t\\t\\t\\t\\t\\t\\tIlja’s passion and tech knowledge help customers transform how they manage infrastructure and develop apps in cloud.\\t\\t\\t\\t\\t\\t\\t\\t\\t\\t\\t\\n\\n\\nIlja Summala\\nLinkedIn\\n\\nGroup CTO\\n\\n\\n\\n\\n\\n\\n\\n\\n\\n\\nSign up to our newsletter.Hear unique professional insights direct from Nordcloud's cloud native experts on the latest developments in cloud.\\r\\nWant to see what's waiting for you in the Newsletter? Get the full scoop! \\n\\n\\n\\n\\n\\nIndustries\\n\\nAutomotive\\nAviation\\nHealthcare\\nFinancial Services & Insurance\\nManufacturing & Industrial\\nPublic Sector\\nServices\\nTechnology & ISVs\\n\\n\\nPartners\\n\\nAmazon Web Services\\nMicrosoft Azure\\nGoogle Cloud\\nSAP\\nIBM Multicloud\\n\\n\\nCompany\\n\\nContact\\nCareers\\nAbout Us\\nOur Offices\\nPress Office\\nCommunity & Culture\\nInvestors\\n\\n\\nPolicies\\n\\nPrivacy Notice\\nRecruitment Privacy Policy\\nESG Policy Statement\\nQuality Policy\\nFeedback\\nSecurity\\nCookies\\nCookie Settings\\n\\n\\n \\n\\n\\n\\n\\n\\n\\n\\n\\n\\n\\n\\n\\n\\n\\n\\n\\n\\n\\n\\n\\n\\n\\n\\n\\n\\n\\n\\n\\n \\nInstagram\\nTwitter\\nFacebook\\nLinkedin\",\n",
      "      \"question\": \"Can you tell me more about the company nordcloud in munich?\"\n",
      "    },\n",
      "    {\n",
      "      \"context\": \"About Us – Cloud Services – Nordcloud\\n\\n\\n\\n\\n\\n\\n\\n\\n\\n\\n\\n\\n\\n\\n\\n\\n\\n\\n\\n\\n\\n\\n\\n\\n\\n\\n\\n\\n\\n\\n\\n\\n\\n\\n\\n\\n\\n\\n\\n\\n\\n\\nSkip to content\\n\\n\\n\\n\\n\\n\\n\\n\\n\\n\\n\\n\\n\\n\\n\\n\\n\\n\\n\\n\\n\\n\\n\\n\\n\\n\\n\\n\\n\\n\\n\\n\\n\\nServices\\n\\nCloud Strategy\\n\\nCloud Transformation\\n\\nCloud Transformation Strategy\\nOrganisation (CCoE) Design\\nCloud Transformation Consulting\\nSustainability in the Cloud\\n\\n\\nCloud Training\\n\\nGeneral Cloud Courses\\nAWS Cloud Courses\\nAzure Cloud Training\\nGoogle Cloud Courses\\nFinOps Courses\\n\\n\\n\\n\\nCloud Foundation & Migration\\n\\nCloud Foundations\\n\\nBuild Your Cloud Foundations\\nCloud Upskilling\\n\\n\\nCloud Migration\\n\\nStart your migration journey\\nMigrate to the Cloud\\nManaged Cloud Migration\\n\\n\\nCloud Security\\n\\nSecurity & Compliance\\n\\n\\n\\n\\nInnovation & Modernisation\\n\\nAI & Data\\n\\nGenerative AI\\nData & AI Strategy\\nData Migration & Modernisation\\nAI & Machine Learning Industrialisation\\nAI & Machine Learning at the Edge\\nBusiness Intelligence & Data Visualisation\\n\\n\\nPlatform and App modernisation\\n\\nModernise Applications to the Cloud\\nFrictionless Delivery of Software\\n\\n\\nCloud Native Build\\n\\nApplication Development\\nDigital Design\\n\\n\\nCloud DevOps\\n\\nDevOps Foundation\\nKubernetes\\n\\n\\n\\n\\nManaged Services\\n\\nManaged Cloud Services\\n\\nManaged Cloud Foundations\\nManaged Databases\\nManaged Cloud Environments\\nManaged App Modernisation\\nPES Automation Platform\\n\\n\\nCloud PaaS Management\\n\\nApplication Management\\nSAP Operation \\n\\n\\nFinOps\\n\\nManaged FinOps\\nFinOps Courses\\n\\n\\n\\n\\nAll Services\\nGen AI in the cloud? Start hereAll the support you need to use gen AI and LLMs efficiently and securely 👇Generative AI With Public Cloud\\n\\n\\nPartners\\n\\n\\n\\n\\n\\n\\n\\n\\n\\n\\n\\n\\n\\nAmazon Web Services\\n\\nAmazon Web Services\\nAWS Services\\n\\nAWS Migration\\nAWS Data & Analytics\\nAWS Cloud Operations\\nAWS Managed Cloud Services\\nTransforming Businesses into SaaS\\nAWS Security Services\\n\\n\\nAWS Solutions\\n\\nAWS ClearStart\\nAWS End User Computing\\nAWS Outposts\\nAWS Marketplace\\nMicrosoft on AWS\\nRunning Containers on AWS\\nVMware Cloud on AWS\\n\\n\\n\\n\\n\\n\\n\\n\\n\\n\\n\\n\\n\\n\\n\\n\\n\\n\\n\\n\\n\\n\\n\\n\\n\\n\\n\\n\\nMicrosoft Azure\\n\\nMicrosoft Azure\\n\\nData and AI\\nInfrastructure and migration\\nSecurity\\nManaged services\\nDigital and application innovation\\n\\n\\n\\n\\n\\n\\n\\n\\n\\n\\n\\n\\nGoogle Cloud\\n\\nGoogle Cloud\\nGoogle Cloud Services\\n\\nGoogle Cloud Managed Cloud Services\\nMigrating to Cloud with Google Cloud\\nGoogle Cloud Application Modernisation\\nUnlock your data with Google Cloud\\n\\n\\nGoogle Cloud Solutions\\n\\nGoogle Cloud VMware Engine\\nGoogle Workspace\\n\\n\\n\\n\\n\\n\\n\\n\\n\\n\\n\\n\\n\\n\\n\\n\\n\\nSAP\\n\\nSAP\\n\\nSAP Cloud Advisory\\nSAP Cloud Migration \\nSAP Operation \\nSAP Automation \\nSAP Innovation\\n\\n\\n\\n\\n\\n\\n\\n\\n\\n\\n\\n\\n\\n\\n\\n\\n\\n\\n\\n\\n\\n\\n\\n\\n\\n\\n\\n\\n\\n\\n\\n\\n\\n\\n\\n\\n\\n\\n\\n\\n\\n\\n\\n\\n\\n\\n\\n\\n\\nIBM Multicloud\\n\\nIBM Multicloud\\n\\nIBM Multicloud Accelerator\\nIBM Multicloud Provisioning\\nIBM Multicloud Machine Image Toolkit\\nIBM Multicloud Autobackup\\nIBM Multicloud Autopatcher\\n\\n\\n\\n\\n\\n\\n\\n\\n\\n\\n\\n\\nRed Hat OpenShift\\nAll Partners\\n7 lessons from battle-hardened cloud adoptersMore details\\n\\n\\nIndustries\\n\\nAutomotive\\n\\t\\t\\t\\t\\n\\n\\n\\n\\n\\n\\n\\n\\n\\n\\n\\n\\n\\n\\n\\n\\n\\n\\n\\n\\n\\nAutomotive\\n\\nBuckle your seatbelt, and enjoy the cloud journey.\\n\\n\\nAviation\\n\\t\\t\\t\\t\\n\\n\\n\\n\\n\\n\\n\\n\\n\\n\\n\\n\\n\\n\\n\\n\\n\\nAviation\\n\\nDon’t be grounded in the data centre– fly to the cloud.\\n\\n\\nFinancial Services\\n\\t\\t\\t\\t\\n\\n\\n\\n\\n\\n\\n\\n\\n\\n\\n\\n\\n\\n\\n\\n\\n\\n\\n\\n\\n\\n\\n\\n\\n\\n\\n\\n\\nFinancial Services\\n\\nTick the boxes: agility, security, scalability and cost efficiency.\\n\\n\\nHealthcare\\n\\t\\t\\t\\t\\n\\n\\n\\n\\n\\n\\n\\n\\n\\n\\n\\n\\n\\nHealthcare\\n\\nDeliver cloud solutions for patients and clinicians.\\n\\n\\nManufacturing\\n\\t\\t\\t\\t\\n\\n\\n\\n\\n\\n\\n\\n\\n\\n\\n\\n\\n\\n\\n\\n\\n\\n\\n\\n\\n\\n\\n\\n\\n\\n\\n\\n\\n\\nManufacturing\\n\\nInnovation engine that boosts efficiency and productivity.\\n\\n\\nPublic Sector\\n\\t\\t\\t\\t\\n\\n\\n\\n\\n\\n\\n\\n\\n\\n\\n\\n\\n\\n\\n\\n\\n\\n\\n\\n\\n\\n\\n\\n\\n\\n\\n\\n\\n\\n\\n\\n\\n\\n\\n\\n\\n\\n\\n\\n\\nPublic Sector\\n\\nEmpowering governments to meet citizens’ expectations.\\n\\n\\nServices\\n\\t\\t\\t\\t\\n\\n\\n\\n\\n\\n\\n\\n\\n\\n\\n\\n\\n\\n\\n\\n\\n\\n\\nServices\\n\\nImproving efficiency and reducing costs.\\n\\n\\nTechnology & ISVs\\n\\t\\t\\t\\t\\n\\n\\n\\n\\n\\n\\n\\n\\n\\n\\n\\n\\n\\nTechnology & ISVs\\n\\nTransform on-premises solutions to SaaS.\\n\\n\\nAll Industries\\n\\t\\t\\t\\t\\n\\nAll Industries\\n\\nTailored solutions for every industry sector.\\n\\n\\nInteractive Route Map: Aviation’s Flight PlanMore details\\n\\n\\nContent Hub\\n\\nLatest postsHow to make life easier for IT (in the brave new digitally transformed world)Getting your ESG data ready for the Corporate Sustainability Reporting DirectiveGoogle Cloud Next ’24 Nordcloud Recap\\nTrending contentGetting your ESG data ready for the Corporate Sustainability Reporting DirectiveIT ops headaches you don’t have to live withHow to cure Day 2 digital transformation challenges\\nBy formatAll formatsPostsCase StudiesGuidesVideosInfographicsTech CommunityNewslettersPodcasts\\nHow to cure Day 2 digital transformation challengesGet your free guideMore details\\n\\n\\nCase Studies\\nEvents\\nCareers\\nAbout Us\\n \\nContact Us\\n\\n\\n\\n\\n\\n\\n\\n\\n\\n\\n\\n\\n\\n\\n\\n\\n\\n\\n\\n\\n\\n\\n\\n\\n\\n\\n\\n\\n\\nContact Us\\n\\n\\n\\n\\n\\n\\nHome > About Us\\n\\n\\n\\n\\nAbout Us.Nordcloud is a European leader in cloud implementation, application development, managed services and training. We’re triple certified and featured in Gartner’s Magic Quadrant.\\nGet in Touch \\n\\n\\n\\n \\n\\n\\n\\n\\n\\n\\nCompany Numbers. \\n\\n>45%Net revenue growth year on year\\n \\n\\n1,000+Public cloud implementations\\n \\n\\n1,300+Team members\\n \\n\\n200+Enterprise clients\\n \\n\\n10Countries with Nordcloud offices\\n \\n\\n\\n\\n\\n\\nLeadership Team. \\n\\n\\n  \\nJan Kritz\\nGroup CEO\\nJan’s unique combo of cloud-first expertise and positive leadership style makes him the perfect leader for Nordcloud. Together with his team of cloud ninjas, Jan supports customers at every step of their journey, helping them harness the power of an agile, cloud-native approach. Having previously held senior leadership positions at Capgemini and Atos among others, in his 5+ years at Nordcloud, he’s overseen our growth as we’ve cemented our position as Europe’s leading cloud-native partner.\\n\\n\\n\\n\\n  \\nIlja Summala\\nGroup CTO\\nIlja is a legend in the tech industry. After 12 years at tech giant Nokia, he joined Nordcloud as CTO in 2012 to lead us on our journey to become a full-stack, cloud-native system integrator. His passion and unparalleled technological skills help customers transform the way they manage infrastructure and develop applications in a cloud-native world.\\n\\n\\n\\n\\n  \\nJaana Salmela\\nProfessional Services\\nHaving held numerous leadership roles at both global and regional levels, Jaana has played a pivotal role in shaping and enhancing Nordcloud’s delivery culture and quality. With a robust background in managing enterprise-grade IT service teams and consulting organisations, she is tasked with scaling and enhancing our global professional services teams and offerings to meet the evolving demands of our key markets.\\n\\n\\n\\n\\n  \\nTapio Koskinen\\nGlobal Sales & Marketing\\nWant a cloud-native tech whiz who truly understands things from the customer’s side of the table? Tapio’s your guy. As our Global Sales Lead, he’s all about getting the right solutions and services to the right people, so everyone from directors to devs benefit from everything the public cloud has to offer. Certified in AWS and experienced in Azure and Google Cloud Platform, Tapio, along with his global team, give you impartial advice grounded in cloud-native experience.\\n\\n\\n\\n\\n  \\nNiko Mykkänen\\nAlliances\\nWe’re all about the power of collaboration at Nordcloud, which is why Niko plays such an important role. He’s the strategic link between our hyperscaler and technology partners, customers and internal teams – helping everyone drive more growth and innovation from public cloud capabilities. His impressive career has spanned leadership roles at AWS and Nokia, and he has a particular interest in AI and predictive analytics.\",\n",
      "      \"question\": \"Can you tell me more about the company nordcloud in munich?\"\n",
      "    },\n",
      "    {\n",
      "      \"context\": \"Tapio Koskinen\\nGlobal Sales & Marketing\\nWant a cloud-native tech whiz who truly understands things from the customer’s side of the table? Tapio’s your guy. As our Global Sales Lead, he’s all about getting the right solutions and services to the right people, so everyone from directors to devs benefit from everything the public cloud has to offer. Certified in AWS and experienced in Azure and Google Cloud Platform, Tapio, along with his global team, give you impartial advice grounded in cloud-native experience.\\n\\n\\n\\n\\n  \\nNiko Mykkänen\\nAlliances\\nWe’re all about the power of collaboration at Nordcloud, which is why Niko plays such an important role. He’s the strategic link between our hyperscaler and technology partners, customers and internal teams – helping everyone drive more growth and innovation from public cloud capabilities. His impressive career has spanned leadership roles at AWS and Nokia, and he has a particular interest in AI and predictive analytics.\\n\\n\\n\\n\\n  \\nPetteri Uljas\\nNCEE Sales\\nPetteri began his career as a software developer and has ascended through global leadership roles and board positions across multiple countries, within Capgemini and Tietoevry. His passion lies in achieving objectives through people, forging cohesive teams from diverse professional and cultural mixes, and fostering trust that sees results for both us and our customers. Petteri believes that there’s no cloud without people.\\n\\n\\n\\n\\n  \\nScott Eivers\\nUK Sales\\nScott brings a wealth of experience at building successful services businesses in the technology sector into Nordcloud. Prior to Nordcloud Scott has led a variety of growth roles including most recently building the business consulting team of Gartner in EMEA.His role today is to lead the UK region, driving growth through the multiple sales and commercial routes. This builds upon his previous role at Nordcloud as the Chief Growth Officer where he had responsibility for building various growth acceleration initiatives including marketing, product mgmt, commercial mgmt and corporate development\\n\\n\\n\\n\\n  \\nThomas Baus\\nDACH Sales\\nHaving been part of Nordcloud for most of the company’s lifespan, Thomas has dedicated heart and mind to nurturing our brand, expanding our customer base, fostering our team, and enriching our culture within our German-speaking regions. After holding various global positions, he now returns to focus on our ongoing growth and success journey in the DACH region.\\n\\n\\n\\n\\n  \\nNilay Mardikar\\nMigrations\\nStarting his career as a software developer, Nilay has been in the IT realm since 1994, having worked for the likes of Atos, Tietoevry, Capgemini, and Birlasoft previously. He’s committed to working closely with clients to define cloud success. Extensive experience in sales, solutions and delivery helps Nilay support individuals in various teams to thrive. In his current role, Our ambition is to broaden migration and post migration modernization delivery to foster growth, reliability, predictability with reuse and profitability for Nordcloud and IBM. Nilay has strong experience in critical delivery and sales, solutions roles including strategic engagements with different customers in Nordics, EMEA.\\n\\n\\n\\n\\n  \\nIndrayudh Ghosh\\nPlatform Engineering Services\\nIndra brings extensive experience in sales and delivery across Europe, Asia, and the Americas. As a tech evangelist and growth-oriented professional, Indra specializes in orchestrating large end-to-end deliveries while maintaining a steadfast focus on people. In the constantly evolving tech landscape, Indra spearheads the expansion of Nordcloud’s platform engineering services through AI and automation, driven by the collective efforts of our people.\\n\\n\\n\\n\\n  \\nMaria Ihamuotila\\nChief of Staff\\nBringing expertise in strategy consulting, international expansion, and operational project management within dynamic, high-growth environments, Maria spearheads the development of Nordcloud’s group strategy and operations. She is driven by a passion for multidisciplinary topics and excels in translating strategy into actionable plans through clear communication, robust cross-functional collaboration, and data-driven problem-solving.\\n\\n\\n\\n\\n  \\nRam Kumar\\nChief People Officer\\nCustomer value focus\\nHow do you make great things happen in the cloud? By having a crack team of cloud ninjas leading and supporting you. Which is where Ram comes in. He has the perfect combination of cloud/tech and HR experience, honed over decades working with the likes of IBM, Wipro, Nokia, Microsoft and Cloudator. His leadership helps ensure our customers and our colleagues benefit from strategies, processes and development opportunities that put them at the cutting edge of cloud.\\nTalent focus\\nOur purpose as a company is to accelerate the world to a more equal, greener and sustainable digital society. And that requires a team of uniquely talented people working together to achieve greatness. That’s where Ram comes in. He helps us build and nurture our team of digital builders born in the cloud – drawing on deep cloud/tech and people experience honed over decades working with the likes of IBM, Wipro, Nokia, Microsoft and Cloudator. \\n\\n\\n\\n\\n  \\nTuomas Toropainen\\nCFO Office\\nTuomas is our numbers guy. With a finance career spanning a wide range of industries, he’s on a mission to challenge traditional perceptions of finance leaders. Like Nordcloud, he’s forward-thinking, and the words ‘But that’s how we’ve always done it!’ will never leave his mouth.\\n\\n\\n\\n\\n\\n\\n\\n\\n\\n\\n\\n\\n\\n\\n\\n\\n\\n\\nProud to be cloud native.\\n\\n\\n\\n\\n\\n\\n\\n\\nWhy NordcloudWe help you use the cloud to become stronger, fitter and faster.\\nLearn more \\n\\nOur ApproachWe empower your business to drive value, velocity and growth with the public cloud.\\nLearn more \\n\\n\\n\\n\\n\\nCompany Timeline.\",\n",
      "      \"question\": \"Can you tell me more about the company nordcloud in munich?\"\n",
      "    }\n",
      "  ]\n",
      "}\n",
      "\u001b[32;1m\u001b[1;3m[llm/start]\u001b[0m \u001b[1m[chain:RetrievalQA > chain:MapReduceDocumentsChain > chain:LLMChain > llm:HuggingFacePipeline] Entering LLM run with input:\n",
      "\u001b[0m{\n",
      "  \"prompts\": [\n",
      "    \"Use the following portion of a long document to see if any of the text is relevant to answer the question. \\nReturn any relevant text verbatim.\\nTuomas Toropainen\\nCFO Office\\nTuomas is our numbers guy. With a finance career spanning a wide range of industries, he’s on a mission to challenge traditional perceptions of finance leaders. Like Nordcloud, he’s forward-thinking, and the words ‘But that’s how we’ve always done it!’ will never leave his mouth.\\n\\n\\n\\n\\n\\n\\n\\n\\n\\n\\n\\n\\n\\n\\n\\n\\n\\n\\nProud to be cloud native.\\n\\n\\n\\n\\n\\n\\n\\n\\nWhy NordcloudWe help you use the cloud to become stronger, fitter and faster.\\nLearn more \\n\\nOur ApproachWe empower your business to drive value, velocity and growth with the public cloud.\\nLearn more \\n\\n\\n\\n\\n\\nCompany Timeline. \\n\\n\\n\\n2006A cloud-native infrastructure and web application development company is born in Finland!\\n2011Nordcloud was established – with a focus on helping customers leverage public cloud infrastructure and DevOps. Growth skyrockets.\\nEsa Kinnunen appointed as the first Nordcloud CEO.\\n2013One of our original founders, Pyry Lehdonvirta, becomes a published author with HTML5 as an Application, a go-to resource for application designers and developers – cementing our position as a pioneer in emerging technologies.\\nNordcloud expands into its second country: Sweden.\\n2014Growth gets serious as Nordcloud joins the 2-year EIT Digital Accelerator to kickstart European expansion.\\nNordcloud becomes an AWS Premier Consulting partner.\\nExpansion continues, with new Nordcloud offices in Denmark and the UK.\\n2015We seize a leadership position in the cloud application design and development space by creating a living style guide, a predecessor of modern design systems.\\nNordcloud secures €1 million funding from Finnvera, the Finnish public financing company, to help drive expansion. We open new offices in Norway and Germany.\\nAs one of the world’s first AWS Lambda partners, we start delivering web-based applications based on cloud-native, serverless architectures.\\n2016Nordcloud enters the Netherlands.\\n2017Nordcloud is recognised in Gartner’s first-ever Magic Quadrant for Public Cloud Infrastructure Managed Service Providers, with Gartner particularly highlighting our multi-cloud expertise.\\nWe open our first office in Poland.\\n2018Microsoft names Nordcloud a finalist for Partner of the Year.\\nFor the second year running, Nordcloud is recognised in Gartner’s Magic Quadrant for Public Cloud Infrastructure Professional and Managed Services.\\nSwitzerland becomes the ninth country with a Nordcloud presence.\\n2019Microsoft names us Partner of the Year.\\nThe Financial Times names us as one of the 1,000 fastest-growing companies in Europe as part of its FT1000 ranking.\\nWe open an office in Austria, giving us a presence in 10 countries.\\n2020Gartner names Nordcloud the top cloud-native managed services provider in its Magic Quadrant for Public Cloud Infrastructure, Professional and Managed Services, Worldwide.\\nNordcloud achieves Google Cloud specialisations in cloud migration and training.\\nMicrosoft names us Partner of the Year.\\nIBM acquires Nordcloud, giving us new superpowers and scale for bringing cloud-native expertise to enterprise customers.\\n2021We officially launch Nordcloud Klarity, our cloud management and FinOps SaaS product. We originally developed it for our own managed services team, but based on popular demand, made it generally available for people looking to get more automation, visibility and cost control with their clouds.\\nMicrosoft names us Azure Infra Modernisation Partner of the Year.\\nAWS names us AWS Migration Partner of the Year.\\nNordcloud achieves VMware Master Services Competency in VMware Cloud on AWS, making us one of the rare partners to have such high credentials across both VMware and AWS.\\nNordcloud achieves a Google Cloud specialisation in infrastructure services.\\nGartner recognises Nordcloud as a Visionary in its Magic Quadrant for Public Cloud IT Transformation Services.\\nNordcloud becomes a signatory of Microsoft’s Partner Pledge, which is a commitment to helping people use technology in the right way and for the greater good.\\nNordcloud is recognised as a Great Place to Work in Austria, Denmark, Finland, Germany, Netherlands, Poland and the UK.\\n2022Nordcloud wins a major cloud agreement with Valtori, the IT arm of the Finnish government. This cloud partnership will help the government move faster towards cloud while maintaining robust security and data protection.\\nWe hit 1000 AWS certifications and receive an AWS Partner Network (APN) Certification Distinction.\\nWe hit 1000 Microsoft certifications.\\n2023Nordcloud’s founder and CEO Fernando Herrera steps down after a decade of leading the company. Jan Kritz, formerly COO, steps up to lead Nordcloud as CEO in an exciting new chapter.\\nNordcloud has been chosen by Microsoft as Western Europe Partner of the Year for Azure cloud solutions.\\n2024Nordcloud continues to drive innovation in cloud, enabling AI excellence in public cloud and revolutionising the automation of Platform Engineering Services.\\n \\n\\n\\n\\n\\nOur Offices. \\n\\n\\nAmsterdamNordcloud B.V. Netherlands\\nJohan Huizingalaan 765\\n1066 VH Amsterdam, NetherlandsShow routeBarcelonaVIEWNEXT\\nCarrer Jesús Serra Santamans, 4\\n08174 Sant Cugat del Vallès, BarcelonaShow routeBerlinSpaces c/o Nordcloud Germany GmbH\\nJägerstraße 54-55\\n10117 BerlinShow routeBernNordcloud Switzerland GmbH\\nZentroom\\nBahnhofplatz 10b\\n3011 BernShow routeCopenhagenNordcloud ApS Denmark\\nAmager Fælledvej 106\\n2300 København SShow routeGothenburgNordcloud Hosting Sweden AB\\nJohann Willins Gata 8\\n416 64 Göteborg\\n(Johan Willins Gata 6 for visits and post)Show routeHelsinkiNordcloud Oy\\nPohjoisesplanadi 37A\\n00100 HelsinkiShow routeJyväskyläNordcloud Oy\\nVapaudenkatu 60\\n40100 JyväskyläShow routeJönköpingNordcloud Hosting Sweden AB\\nÖstra Storgatan 9\\n553 20 JönköpingShow routeKuopioNordcloud Oy\\nMicrokatu 1 (M)\\n70150 Kuopio (Novapolis)Show routeLondonIBM United Kingdom Ltd\\n20 York Road\\nLondon SE1 7NDShow routeMadridVIEWNEXT\\nAv. de Burgos, 8-A\\n28036 MadridShow routeMalmöNordcloud Hosting Sweden AB\\nStortorget 11\\n211 22 MalmöShow routeManchesterNordcloud Ltd\\nHana, Landmark, St Peter’s Square\\nManchester M1 4BPShow routeMunichNordcloud Deutschland GmbH (IBM)\\nMies-van-der-Rohe-Straße 6\\nTower 1 / 28 OG\\n80807 MünchenShow routeOsloNordcloud AS Norway\\nGrundingen 6\\n0250 OsloShow routeOuluNordcloud Oy\\nElektroniikkatie 13\\n90580 Oulu (Technopolis)Show routePoznańNordcloud sp z.o.o. Poland\\nKupiec Poznański, 5th floor\\nPlac Wiosny Ludów 2\\n61-831 PoznańShow routeSaloNordcloud Oy\\nSalo IoT Park Oy\\nJoensuunkatu 7\\n24100 SaloShow routeStockholmNordcloud Hosting Sweden AB\\nDrottninggatan 68, vån 5\\n111 21 StockholmShow routeViennaNordcloud, Austria\\nObere Donaustraße 95\\n1020 ViennaShow routeWarsawNordcloud sp z.o.o. Poland\\nMennica Legacy Tower\\nul. Prosta 20\\n00-850 WarsawShow routeWrocławNordcloud sp z.o.o. Poland\\nSpaces Wroclavia\\nul. Sucha 3\\n50-086 WrocławShow routeZugNordcloud Switzerland GmbH\\nGrafenauweg 8\\n6300 ZugShow route \\n\\n\\n\\n\\n\\n\\n\\n\\n\\nGet in Touch.Let’s discuss how we can help with your cloud journey. Our experts are standing by to talk about your migration, modernisation, development and skills challenges.\\n \\n\\n\\n\\n \\n\\n\\n\\n\\n \\n\\n\\n\\n\\n\\n\\t\\t\\t\\t\\t\\t\\t\\t\\t\\t\\t\\tIlja’s passion and tech knowledge help customers transform how they manage infrastructure and develop apps in cloud.\\t\\t\\t\\t\\t\\t\\t\\t\\t\\t\\t\\n\\n\\nIlja Summala\\nLinkedIn\\nQuestion: Can you tell me more about the company nordcloud in munich?\\nRelevant text, if any:\"\n",
      "  ]\n",
      "}\n",
      "\u001b[32;1m\u001b[1;3m[llm/start]\u001b[0m \u001b[1m[chain:RetrievalQA > chain:MapReduceDocumentsChain > chain:LLMChain > llm:HuggingFacePipeline] Entering LLM run with input:\n",
      "\u001b[0m{\n",
      "  \"prompts\": [\n",
      "    \"Use the following portion of a long document to see if any of the text is relevant to answer the question. \\nReturn any relevant text verbatim.\\nGet in Touch.Let’s discuss how we can help with your cloud journey. Our experts are standing by to talk about your migration, modernisation, development and skills challenges.\\n \\n\\n\\n\\n \\n\\n\\n\\n\\n \\n\\n\\n\\n\\n\\n\\t\\t\\t\\t\\t\\t\\t\\t\\t\\t\\t\\tIlja’s passion and tech knowledge help customers transform how they manage infrastructure and develop apps in cloud.\\t\\t\\t\\t\\t\\t\\t\\t\\t\\t\\t\\n\\n\\nIlja Summala\\nLinkedIn\\n\\nGroup CTO\\n\\n\\n\\n\\n\\n\\n\\n\\n\\n\\nSign up to our newsletter.Hear unique professional insights direct from Nordcloud's cloud native experts on the latest developments in cloud.\\r\\nWant to see what's waiting for you in the Newsletter? Get the full scoop! \\n\\n\\n\\n\\n\\nIndustries\\n\\nAutomotive\\nAviation\\nHealthcare\\nFinancial Services & Insurance\\nManufacturing & Industrial\\nPublic Sector\\nServices\\nTechnology & ISVs\\n\\n\\nPartners\\n\\nAmazon Web Services\\nMicrosoft Azure\\nGoogle Cloud\\nSAP\\nIBM Multicloud\\n\\n\\nCompany\\n\\nContact\\nCareers\\nAbout Us\\nOur Offices\\nPress Office\\nCommunity & Culture\\nInvestors\\n\\n\\nPolicies\\n\\nPrivacy Notice\\nRecruitment Privacy Policy\\nESG Policy Statement\\nQuality Policy\\nFeedback\\nSecurity\\nCookies\\nCookie Settings\\n\\n\\n \\n\\n\\n\\n\\n\\n\\n\\n\\n\\n\\n\\n\\n\\n\\n\\n\\n\\n\\n\\n\\n\\n\\n\\n\\n\\n\\n\\n\\n \\nInstagram\\nTwitter\\nFacebook\\nLinkedin\\nQuestion: Can you tell me more about the company nordcloud in munich?\\nRelevant text, if any:\"\n",
      "  ]\n",
      "}\n",
      "\u001b[32;1m\u001b[1;3m[llm/start]\u001b[0m \u001b[1m[chain:RetrievalQA > chain:MapReduceDocumentsChain > chain:LLMChain > llm:HuggingFacePipeline] Entering LLM run with input:\n",
      "\u001b[0m{\n",
      "  \"prompts\": [\n",
      "    \"Use the following portion of a long document to see if any of the text is relevant to answer the question. \\nReturn any relevant text verbatim.\\nAbout Us – Cloud Services – Nordcloud\\n\\n\\n\\n\\n\\n\\n\\n\\n\\n\\n\\n\\n\\n\\n\\n\\n\\n\\n\\n\\n\\n\\n\\n\\n\\n\\n\\n\\n\\n\\n\\n\\n\\n\\n\\n\\n\\n\\n\\n\\n\\n\\nSkip to content\\n\\n\\n\\n\\n\\n\\n\\n\\n\\n\\n\\n\\n\\n\\n\\n\\n\\n\\n\\n\\n\\n\\n\\n\\n\\n\\n\\n\\n\\n\\n\\n\\n\\nServices\\n\\nCloud Strategy\\n\\nCloud Transformation\\n\\nCloud Transformation Strategy\\nOrganisation (CCoE) Design\\nCloud Transformation Consulting\\nSustainability in the Cloud\\n\\n\\nCloud Training\\n\\nGeneral Cloud Courses\\nAWS Cloud Courses\\nAzure Cloud Training\\nGoogle Cloud Courses\\nFinOps Courses\\n\\n\\n\\n\\nCloud Foundation & Migration\\n\\nCloud Foundations\\n\\nBuild Your Cloud Foundations\\nCloud Upskilling\\n\\n\\nCloud Migration\\n\\nStart your migration journey\\nMigrate to the Cloud\\nManaged Cloud Migration\\n\\n\\nCloud Security\\n\\nSecurity & Compliance\\n\\n\\n\\n\\nInnovation & Modernisation\\n\\nAI & Data\\n\\nGenerative AI\\nData & AI Strategy\\nData Migration & Modernisation\\nAI & Machine Learning Industrialisation\\nAI & Machine Learning at the Edge\\nBusiness Intelligence & Data Visualisation\\n\\n\\nPlatform and App modernisation\\n\\nModernise Applications to the Cloud\\nFrictionless Delivery of Software\\n\\n\\nCloud Native Build\\n\\nApplication Development\\nDigital Design\\n\\n\\nCloud DevOps\\n\\nDevOps Foundation\\nKubernetes\\n\\n\\n\\n\\nManaged Services\\n\\nManaged Cloud Services\\n\\nManaged Cloud Foundations\\nManaged Databases\\nManaged Cloud Environments\\nManaged App Modernisation\\nPES Automation Platform\\n\\n\\nCloud PaaS Management\\n\\nApplication Management\\nSAP Operation \\n\\n\\nFinOps\\n\\nManaged FinOps\\nFinOps Courses\\n\\n\\n\\n\\nAll Services\\nGen AI in the cloud? Start hereAll the support you need to use gen AI and LLMs efficiently and securely 👇Generative AI With Public Cloud\\n\\n\\nPartners\\n\\n\\n\\n\\n\\n\\n\\n\\n\\n\\n\\n\\n\\nAmazon Web Services\\n\\nAmazon Web Services\\nAWS Services\\n\\nAWS Migration\\nAWS Data & Analytics\\nAWS Cloud Operations\\nAWS Managed Cloud Services\\nTransforming Businesses into SaaS\\nAWS Security Services\\n\\n\\nAWS Solutions\\n\\nAWS ClearStart\\nAWS End User Computing\\nAWS Outposts\\nAWS Marketplace\\nMicrosoft on AWS\\nRunning Containers on AWS\\nVMware Cloud on AWS\\n\\n\\n\\n\\n\\n\\n\\n\\n\\n\\n\\n\\n\\n\\n\\n\\n\\n\\n\\n\\n\\n\\n\\n\\n\\n\\n\\n\\nMicrosoft Azure\\n\\nMicrosoft Azure\\n\\nData and AI\\nInfrastructure and migration\\nSecurity\\nManaged services\\nDigital and application innovation\\n\\n\\n\\n\\n\\n\\n\\n\\n\\n\\n\\n\\nGoogle Cloud\\n\\nGoogle Cloud\\nGoogle Cloud Services\\n\\nGoogle Cloud Managed Cloud Services\\nMigrating to Cloud with Google Cloud\\nGoogle Cloud Application Modernisation\\nUnlock your data with Google Cloud\\n\\n\\nGoogle Cloud Solutions\\n\\nGoogle Cloud VMware Engine\\nGoogle Workspace\\n\\n\\n\\n\\n\\n\\n\\n\\n\\n\\n\\n\\n\\n\\n\\n\\n\\nSAP\\n\\nSAP\\n\\nSAP Cloud Advisory\\nSAP Cloud Migration \\nSAP Operation \\nSAP Automation \\nSAP Innovation\\n\\n\\n\\n\\n\\n\\n\\n\\n\\n\\n\\n\\n\\n\\n\\n\\n\\n\\n\\n\\n\\n\\n\\n\\n\\n\\n\\n\\n\\n\\n\\n\\n\\n\\n\\n\\n\\n\\n\\n\\n\\n\\n\\n\\n\\n\\n\\n\\n\\nIBM Multicloud\\n\\nIBM Multicloud\\n\\nIBM Multicloud Accelerator\\nIBM Multicloud Provisioning\\nIBM Multicloud Machine Image Toolkit\\nIBM Multicloud Autobackup\\nIBM Multicloud Autopatcher\\n\\n\\n\\n\\n\\n\\n\\n\\n\\n\\n\\n\\nRed Hat OpenShift\\nAll Partners\\n7 lessons from battle-hardened cloud adoptersMore details\\n\\n\\nIndustries\\n\\nAutomotive\\n\\t\\t\\t\\t\\n\\n\\n\\n\\n\\n\\n\\n\\n\\n\\n\\n\\n\\n\\n\\n\\n\\n\\n\\n\\n\\nAutomotive\\n\\nBuckle your seatbelt, and enjoy the cloud journey.\\n\\n\\nAviation\\n\\t\\t\\t\\t\\n\\n\\n\\n\\n\\n\\n\\n\\n\\n\\n\\n\\n\\n\\n\\n\\n\\nAviation\\n\\nDon’t be grounded in the data centre– fly to the cloud.\\n\\n\\nFinancial Services\\n\\t\\t\\t\\t\\n\\n\\n\\n\\n\\n\\n\\n\\n\\n\\n\\n\\n\\n\\n\\n\\n\\n\\n\\n\\n\\n\\n\\n\\n\\n\\n\\n\\nFinancial Services\\n\\nTick the boxes: agility, security, scalability and cost efficiency.\\n\\n\\nHealthcare\\n\\t\\t\\t\\t\\n\\n\\n\\n\\n\\n\\n\\n\\n\\n\\n\\n\\n\\nHealthcare\\n\\nDeliver cloud solutions for patients and clinicians.\\n\\n\\nManufacturing\\n\\t\\t\\t\\t\\n\\n\\n\\n\\n\\n\\n\\n\\n\\n\\n\\n\\n\\n\\n\\n\\n\\n\\n\\n\\n\\n\\n\\n\\n\\n\\n\\n\\n\\nManufacturing\\n\\nInnovation engine that boosts efficiency and productivity.\\n\\n\\nPublic Sector\\n\\t\\t\\t\\t\\n\\n\\n\\n\\n\\n\\n\\n\\n\\n\\n\\n\\n\\n\\n\\n\\n\\n\\n\\n\\n\\n\\n\\n\\n\\n\\n\\n\\n\\n\\n\\n\\n\\n\\n\\n\\n\\n\\n\\n\\nPublic Sector\\n\\nEmpowering governments to meet citizens’ expectations.\\n\\n\\nServices\\n\\t\\t\\t\\t\\n\\n\\n\\n\\n\\n\\n\\n\\n\\n\\n\\n\\n\\n\\n\\n\\n\\n\\nServices\\n\\nImproving efficiency and reducing costs.\\n\\n\\nTechnology & ISVs\\n\\t\\t\\t\\t\\n\\n\\n\\n\\n\\n\\n\\n\\n\\n\\n\\n\\n\\nTechnology & ISVs\\n\\nTransform on-premises solutions to SaaS.\\n\\n\\nAll Industries\\n\\t\\t\\t\\t\\n\\nAll Industries\\n\\nTailored solutions for every industry sector.\\n\\n\\nInteractive Route Map: Aviation’s Flight PlanMore details\\n\\n\\nContent Hub\\n\\nLatest postsHow to make life easier for IT (in the brave new digitally transformed world)Getting your ESG data ready for the Corporate Sustainability Reporting DirectiveGoogle Cloud Next ’24 Nordcloud Recap\\nTrending contentGetting your ESG data ready for the Corporate Sustainability Reporting DirectiveIT ops headaches you don’t have to live withHow to cure Day 2 digital transformation challenges\\nBy formatAll formatsPostsCase StudiesGuidesVideosInfographicsTech CommunityNewslettersPodcasts\\nHow to cure Day 2 digital transformation challengesGet your free guideMore details\\n\\n\\nCase Studies\\nEvents\\nCareers\\nAbout Us\\n \\nContact Us\\n\\n\\n\\n\\n\\n\\n\\n\\n\\n\\n\\n\\n\\n\\n\\n\\n\\n\\n\\n\\n\\n\\n\\n\\n\\n\\n\\n\\n\\nContact Us\\n\\n\\n\\n\\n\\n\\nHome > About Us\\n\\n\\n\\n\\nAbout Us.Nordcloud is a European leader in cloud implementation, application development, managed services and training. We’re triple certified and featured in Gartner’s Magic Quadrant.\\nGet in Touch \\n\\n\\n\\n \\n\\n\\n\\n\\n\\n\\nCompany Numbers. \\n\\n>45%Net revenue growth year on year\\n \\n\\n1,000+Public cloud implementations\\n \\n\\n1,300+Team members\\n \\n\\n200+Enterprise clients\\n \\n\\n10Countries with Nordcloud offices\\n \\n\\n\\n\\n\\n\\nLeadership Team. \\n\\n\\n  \\nJan Kritz\\nGroup CEO\\nJan’s unique combo of cloud-first expertise and positive leadership style makes him the perfect leader for Nordcloud. Together with his team of cloud ninjas, Jan supports customers at every step of their journey, helping them harness the power of an agile, cloud-native approach. Having previously held senior leadership positions at Capgemini and Atos among others, in his 5+ years at Nordcloud, he’s overseen our growth as we’ve cemented our position as Europe’s leading cloud-native partner.\\n\\n\\n\\n\\n  \\nIlja Summala\\nGroup CTO\\nIlja is a legend in the tech industry. After 12 years at tech giant Nokia, he joined Nordcloud as CTO in 2012 to lead us on our journey to become a full-stack, cloud-native system integrator. His passion and unparalleled technological skills help customers transform the way they manage infrastructure and develop applications in a cloud-native world.\\n\\n\\n\\n\\n  \\nJaana Salmela\\nProfessional Services\\nHaving held numerous leadership roles at both global and regional levels, Jaana has played a pivotal role in shaping and enhancing Nordcloud’s delivery culture and quality. With a robust background in managing enterprise-grade IT service teams and consulting organisations, she is tasked with scaling and enhancing our global professional services teams and offerings to meet the evolving demands of our key markets.\\n\\n\\n\\n\\n  \\nTapio Koskinen\\nGlobal Sales & Marketing\\nWant a cloud-native tech whiz who truly understands things from the customer’s side of the table? Tapio’s your guy. As our Global Sales Lead, he’s all about getting the right solutions and services to the right people, so everyone from directors to devs benefit from everything the public cloud has to offer. Certified in AWS and experienced in Azure and Google Cloud Platform, Tapio, along with his global team, give you impartial advice grounded in cloud-native experience.\\n\\n\\n\\n\\n  \\nNiko Mykkänen\\nAlliances\\nWe’re all about the power of collaboration at Nordcloud, which is why Niko plays such an important role. He’s the strategic link between our hyperscaler and technology partners, customers and internal teams – helping everyone drive more growth and innovation from public cloud capabilities. His impressive career has spanned leadership roles at AWS and Nokia, and he has a particular interest in AI and predictive analytics.\\nQuestion: Can you tell me more about the company nordcloud in munich?\\nRelevant text, if any:\"\n",
      "  ]\n",
      "}\n",
      "\u001b[32;1m\u001b[1;3m[llm/start]\u001b[0m \u001b[1m[chain:RetrievalQA > chain:MapReduceDocumentsChain > chain:LLMChain > llm:HuggingFacePipeline] Entering LLM run with input:\n",
      "\u001b[0m{\n",
      "  \"prompts\": [\n",
      "    \"Use the following portion of a long document to see if any of the text is relevant to answer the question. \\nReturn any relevant text verbatim.\\nTapio Koskinen\\nGlobal Sales & Marketing\\nWant a cloud-native tech whiz who truly understands things from the customer’s side of the table? Tapio’s your guy. As our Global Sales Lead, he’s all about getting the right solutions and services to the right people, so everyone from directors to devs benefit from everything the public cloud has to offer. Certified in AWS and experienced in Azure and Google Cloud Platform, Tapio, along with his global team, give you impartial advice grounded in cloud-native experience.\\n\\n\\n\\n\\n  \\nNiko Mykkänen\\nAlliances\\nWe’re all about the power of collaboration at Nordcloud, which is why Niko plays such an important role. He’s the strategic link between our hyperscaler and technology partners, customers and internal teams – helping everyone drive more growth and innovation from public cloud capabilities. His impressive career has spanned leadership roles at AWS and Nokia, and he has a particular interest in AI and predictive analytics.\\n\\n\\n\\n\\n  \\nPetteri Uljas\\nNCEE Sales\\nPetteri began his career as a software developer and has ascended through global leadership roles and board positions across multiple countries, within Capgemini and Tietoevry. His passion lies in achieving objectives through people, forging cohesive teams from diverse professional and cultural mixes, and fostering trust that sees results for both us and our customers. Petteri believes that there’s no cloud without people.\\n\\n\\n\\n\\n  \\nScott Eivers\\nUK Sales\\nScott brings a wealth of experience at building successful services businesses in the technology sector into Nordcloud. Prior to Nordcloud Scott has led a variety of growth roles including most recently building the business consulting team of Gartner in EMEA.His role today is to lead the UK region, driving growth through the multiple sales and commercial routes. This builds upon his previous role at Nordcloud as the Chief Growth Officer where he had responsibility for building various growth acceleration initiatives including marketing, product mgmt, commercial mgmt and corporate development\\n\\n\\n\\n\\n  \\nThomas Baus\\nDACH Sales\\nHaving been part of Nordcloud for most of the company’s lifespan, Thomas has dedicated heart and mind to nurturing our brand, expanding our customer base, fostering our team, and enriching our culture within our German-speaking regions. After holding various global positions, he now returns to focus on our ongoing growth and success journey in the DACH region.\\n\\n\\n\\n\\n  \\nNilay Mardikar\\nMigrations\\nStarting his career as a software developer, Nilay has been in the IT realm since 1994, having worked for the likes of Atos, Tietoevry, Capgemini, and Birlasoft previously. He’s committed to working closely with clients to define cloud success. Extensive experience in sales, solutions and delivery helps Nilay support individuals in various teams to thrive. In his current role, Our ambition is to broaden migration and post migration modernization delivery to foster growth, reliability, predictability with reuse and profitability for Nordcloud and IBM. Nilay has strong experience in critical delivery and sales, solutions roles including strategic engagements with different customers in Nordics, EMEA.\\n\\n\\n\\n\\n  \\nIndrayudh Ghosh\\nPlatform Engineering Services\\nIndra brings extensive experience in sales and delivery across Europe, Asia, and the Americas. As a tech evangelist and growth-oriented professional, Indra specializes in orchestrating large end-to-end deliveries while maintaining a steadfast focus on people. In the constantly evolving tech landscape, Indra spearheads the expansion of Nordcloud’s platform engineering services through AI and automation, driven by the collective efforts of our people.\\n\\n\\n\\n\\n  \\nMaria Ihamuotila\\nChief of Staff\\nBringing expertise in strategy consulting, international expansion, and operational project management within dynamic, high-growth environments, Maria spearheads the development of Nordcloud’s group strategy and operations. She is driven by a passion for multidisciplinary topics and excels in translating strategy into actionable plans through clear communication, robust cross-functional collaboration, and data-driven problem-solving.\\n\\n\\n\\n\\n  \\nRam Kumar\\nChief People Officer\\nCustomer value focus\\nHow do you make great things happen in the cloud? By having a crack team of cloud ninjas leading and supporting you. Which is where Ram comes in. He has the perfect combination of cloud/tech and HR experience, honed over decades working with the likes of IBM, Wipro, Nokia, Microsoft and Cloudator. His leadership helps ensure our customers and our colleagues benefit from strategies, processes and development opportunities that put them at the cutting edge of cloud.\\nTalent focus\\nOur purpose as a company is to accelerate the world to a more equal, greener and sustainable digital society. And that requires a team of uniquely talented people working together to achieve greatness. That’s where Ram comes in. He helps us build and nurture our team of digital builders born in the cloud – drawing on deep cloud/tech and people experience honed over decades working with the likes of IBM, Wipro, Nokia, Microsoft and Cloudator. \\n\\n\\n\\n\\n  \\nTuomas Toropainen\\nCFO Office\\nTuomas is our numbers guy. With a finance career spanning a wide range of industries, he’s on a mission to challenge traditional perceptions of finance leaders. Like Nordcloud, he’s forward-thinking, and the words ‘But that’s how we’ve always done it!’ will never leave his mouth.\\n\\n\\n\\n\\n\\n\\n\\n\\n\\n\\n\\n\\n\\n\\n\\n\\n\\n\\nProud to be cloud native.\\n\\n\\n\\n\\n\\n\\n\\n\\nWhy NordcloudWe help you use the cloud to become stronger, fitter and faster.\\nLearn more \\n\\nOur ApproachWe empower your business to drive value, velocity and growth with the public cloud.\\nLearn more \\n\\n\\n\\n\\n\\nCompany Timeline.\\nQuestion: Can you tell me more about the company nordcloud in munich?\\nRelevant text, if any:\"\n",
      "  ]\n",
      "}\n"
     ]
    },
    {
     "name": "stderr",
     "output_type": "stream",
     "text": [
      "Setting `pad_token_id` to `eos_token_id`:2 for open-end generation.\n",
      "Setting `pad_token_id` to `eos_token_id`:2 for open-end generation.\n",
      "Setting `pad_token_id` to `eos_token_id`:2 for open-end generation.\n",
      "Exception ignored in: <bound method IPythonKernel._clean_thread_parent_frames of <ipykernel.ipkernel.IPythonKernel object at 0x1107ded10>>\n",
      "Traceback (most recent call last):\n",
      "  File \"/Users/yingding/VENV/agents3.11/lib/python3.11/site-packages/ipykernel/ipkernel.py\", line 775, in _clean_thread_parent_frames\n",
      "    def _clean_thread_parent_frames(\n",
      "\n",
      "KeyboardInterrupt: \n"
     ]
    },
    {
     "name": "stdout",
     "output_type": "stream",
     "text": [
      "\u001b[36;1m\u001b[1;3m[llm/end]\u001b[0m \u001b[1m[chain:RetrievalQA > chain:MapReduceDocumentsChain > chain:LLMChain > llm:HuggingFacePipeline] [326.00s] Exiting LLM run with output:\n",
      "\u001b[0m{\n",
      "  \"generations\": [\n",
      "    [\n",
      "      {\n",
      "        \"text\": \"\\nNordcloud Deutschland GmbH (IBM)\\nMies-van-der-Rohe-Straße 6\\nTower 1 / 28 OG\\n80807 München\\n\\nThis text indicates that Nordcloud has an office located in Munich, Germany, at the address Mies-van-der-Rohe-Straße 6, Tower 1 / 28 OG, 80807 München.\",\n",
      "        \"generation_info\": null,\n",
      "        \"type\": \"Generation\"\n",
      "      }\n",
      "    ]\n",
      "  ],\n",
      "  \"llm_output\": null,\n",
      "  \"run\": null\n",
      "}\n",
      "\u001b[36;1m\u001b[1;3m[llm/end]\u001b[0m \u001b[1m[chain:RetrievalQA > chain:MapReduceDocumentsChain > chain:LLMChain > llm:HuggingFacePipeline] [326.00s] Exiting LLM run with output:\n",
      "\u001b[0m{\n",
      "  \"generations\": [\n",
      "    [\n",
      "      {\n",
      "        \"text\": \"\\nIlja Summala is the Group CTO at Nordcloud in Munich.\\nNordcloud is a European leader in cloud implementation, application development, and managed services.\\nNordcloud helps customers manage infrastructure and develop apps in the cloud.\\nNordcloud partners with Amazon Web Services, Microsoft Azure, Google Cloud, SAP, IBM Multicloud, and others.\\nNordcloud has offices in multiple countries, including Munich.\\nNordcloud's newsletter provides unique professional insights from their cloud native experts on the latest developments in cloud.\\nNordcloud offers services in various industries, including automotive, aviation, healthcare, financial services & insurance, manufacturing & industrial, public sector, services, technology & ISVs.\\nNordcloud has a contact page for inquiries, a careers page, an about us page, and a press office.\\nNordcloud has policies on privacy, recruitment privacy, ESG, quality\",\n",
      "        \"generation_info\": null,\n",
      "        \"type\": \"Generation\"\n",
      "      }\n",
      "    ]\n",
      "  ],\n",
      "  \"llm_output\": null,\n",
      "  \"run\": null\n",
      "}\n",
      "\u001b[36;1m\u001b[1;3m[llm/end]\u001b[0m \u001b[1m[chain:RetrievalQA > chain:MapReduceDocumentsChain > chain:LLMChain > llm:HuggingFacePipeline] [326.00s] Exiting LLM run with output:\n",
      "\u001b[0m{\n",
      "  \"generations\": [\n",
      "    [\n",
      "      {\n",
      "        \"text\": \"\\nNordcloud is a European leader in cloud implementation, application development, managed services and training. We have an office in Munich, Germany. Our team in Munich helps customers transform the way they manage infrastructure and develop applications in a cloud-native world. We have a robust background in managing enterprise-grade IT service teams and consulting organizations. Our Global Sales Lead, Tapio Koskinen, and his global team give impartial advice grounded in cloud-native experience.\\n\\n\\n\\n\\n\\n\\n\\n\\n\\n\\n\\n\\n\\n\\n\\n\\n\\n\\n\\n\\n\\n\\n\\n\\n\\n\\n\\n\\n\\n\\n\\n\\n\\n\\n\\n\\n\\n\\n\\n\\n\\n\\n\\n\\n\\n\\n\\n\\n\\n\\n\\n\\n\\n\\n\\n\\n\\n\\n\\n\\n\\n\\n\\n\\n\\n\\n\\n\\n\\n\\n\\n\\n\\n\\n\\n\\n\\n\\n\\n\\n\\n\\n\\n\\n\\n\\n\\n\\n\\n\\n\\n\\n\\n\\n\\n\\n\\n\\n\\n\\n\\n\",\n",
      "        \"generation_info\": null,\n",
      "        \"type\": \"Generation\"\n",
      "      }\n",
      "    ]\n",
      "  ],\n",
      "  \"llm_output\": null,\n",
      "  \"run\": null\n",
      "}\n",
      "\u001b[36;1m\u001b[1;3m[llm/end]\u001b[0m \u001b[1m[chain:RetrievalQA > chain:MapReduceDocumentsChain > chain:LLMChain > llm:HuggingFacePipeline] [326.00s] Exiting LLM run with output:\n",
      "\u001b[0m{\n",
      "  \"generations\": [\n",
      "    [\n",
      "      {\n",
      "        \"text\": \" Thomas Baus, DACH Sales. Having been part of Nordcloud for most of the company’s lifespan, Thomas has dedicated heart and mind to nurturing our brand, expanding our customer base, fostering our team, and enriching our culture within our German-speaking regions. After holding various global positions, he now returns to focus on our ongoing growth and success journey in the DACH region.\",\n",
      "        \"generation_info\": null,\n",
      "        \"type\": \"Generation\"\n",
      "      }\n",
      "    ]\n",
      "  ],\n",
      "  \"llm_output\": null,\n",
      "  \"run\": null\n",
      "}\n",
      "\u001b[36;1m\u001b[1;3m[chain/end]\u001b[0m \u001b[1m[chain:RetrievalQA > chain:MapReduceDocumentsChain > chain:LLMChain] [326.00s] Exiting Chain run with output:\n",
      "\u001b[0m{\n",
      "  \"outputs\": [\n",
      "    {\n",
      "      \"text\": \"\\nNordcloud Deutschland GmbH (IBM)\\nMies-van-der-Rohe-Straße 6\\nTower 1 / 28 OG\\n80807 München\\n\\nThis text indicates that Nordcloud has an office located in Munich, Germany, at the address Mies-van-der-Rohe-Straße 6, Tower 1 / 28 OG, 80807 München.\"\n",
      "    },\n",
      "    {\n",
      "      \"text\": \"\\nIlja Summala is the Group CTO at Nordcloud in Munich.\\nNordcloud is a European leader in cloud implementation, application development, and managed services.\\nNordcloud helps customers manage infrastructure and develop apps in the cloud.\\nNordcloud partners with Amazon Web Services, Microsoft Azure, Google Cloud, SAP, IBM Multicloud, and others.\\nNordcloud has offices in multiple countries, including Munich.\\nNordcloud's newsletter provides unique professional insights from their cloud native experts on the latest developments in cloud.\\nNordcloud offers services in various industries, including automotive, aviation, healthcare, financial services & insurance, manufacturing & industrial, public sector, services, technology & ISVs.\\nNordcloud has a contact page for inquiries, a careers page, an about us page, and a press office.\\nNordcloud has policies on privacy, recruitment privacy, ESG, quality\"\n",
      "    },\n",
      "    {\n",
      "      \"text\": \"\\nNordcloud is a European leader in cloud implementation, application development, managed services and training. We have an office in Munich, Germany. Our team in Munich helps customers transform the way they manage infrastructure and develop applications in a cloud-native world. We have a robust background in managing enterprise-grade IT service teams and consulting organizations. Our Global Sales Lead, Tapio Koskinen, and his global team give impartial advice grounded in cloud-native experience.\\n\\n\\n\\n\\n\\n\\n\\n\\n\\n\\n\\n\\n\\n\\n\\n\\n\\n\\n\\n\\n\\n\\n\\n\\n\\n\\n\\n\\n\\n\\n\\n\\n\\n\\n\\n\\n\\n\\n\\n\\n\\n\\n\\n\\n\\n\\n\\n\\n\\n\\n\\n\\n\\n\\n\\n\\n\\n\\n\\n\\n\\n\\n\\n\\n\\n\\n\\n\\n\\n\\n\\n\\n\\n\\n\\n\\n\\n\\n\\n\\n\\n\\n\\n\\n\\n\\n\\n\\n\\n\\n\\n\\n\\n\\n\\n\\n\\n\\n\\n\\n\\n\"\n",
      "    },\n",
      "    {\n",
      "      \"text\": \" Thomas Baus, DACH Sales. Having been part of Nordcloud for most of the company’s lifespan, Thomas has dedicated heart and mind to nurturing our brand, expanding our customer base, fostering our team, and enriching our culture within our German-speaking regions. After holding various global positions, he now returns to focus on our ongoing growth and success journey in the DACH region.\"\n",
      "    }\n",
      "  ]\n",
      "}\n"
     ]
    },
    {
     "name": "stderr",
     "output_type": "stream",
     "text": [
      "/Users/yingding/VENV/agents3.11/lib/python3.11/site-packages/huggingface_hub/file_download.py:1132: FutureWarning: `resume_download` is deprecated and will be removed in version 1.0.0. Downloads always resume when possible. If you want to force a new download, use `force_download=True`.\n",
      "  warnings.warn(\n",
      "Token indices sequence length is longer than the specified maximum sequence length for this model (1955 > 1024). Running this sequence through the model will result in indexing errors\n",
      "Setting `pad_token_id` to `eos_token_id`:2 for open-end generation.\n"
     ]
    },
    {
     "name": "stdout",
     "output_type": "stream",
     "text": [
      "\u001b[32;1m\u001b[1;3m[chain/start]\u001b[0m \u001b[1m[chain:RetrievalQA > chain:MapReduceDocumentsChain > chain:LLMChain] Entering Chain run with input:\n",
      "\u001b[0m{\n",
      "  \"question\": \"Can you tell me more about the company nordcloud in munich?\",\n",
      "  \"summaries\": \"\\nNordcloud Deutschland GmbH (IBM)\\nMies-van-der-Rohe-Straße 6\\nTower 1 / 28 OG\\n80807 München\\n\\nThis text indicates that Nordcloud has an office located in Munich, Germany, at the address Mies-van-der-Rohe-Straße 6, Tower 1 / 28 OG, 80807 München.\\n\\n\\nIlja Summala is the Group CTO at Nordcloud in Munich.\\nNordcloud is a European leader in cloud implementation, application development, and managed services.\\nNordcloud helps customers manage infrastructure and develop apps in the cloud.\\nNordcloud partners with Amazon Web Services, Microsoft Azure, Google Cloud, SAP, IBM Multicloud, and others.\\nNordcloud has offices in multiple countries, including Munich.\\nNordcloud's newsletter provides unique professional insights from their cloud native experts on the latest developments in cloud.\\nNordcloud offers services in various industries, including automotive, aviation, healthcare, financial services & insurance, manufacturing & industrial, public sector, services, technology & ISVs.\\nNordcloud has a contact page for inquiries, a careers page, an about us page, and a press office.\\nNordcloud has policies on privacy, recruitment privacy, ESG, quality\\n\\n\\nNordcloud is a European leader in cloud implementation, application development, managed services and training. We have an office in Munich, Germany. Our team in Munich helps customers transform the way they manage infrastructure and develop applications in a cloud-native world. We have a robust background in managing enterprise-grade IT service teams and consulting organizations. Our Global Sales Lead, Tapio Koskinen, and his global team give impartial advice grounded in cloud-native experience.\\n\\n\\n\\n\\n\\n\\n\\n\\n\\n\\n\\n\\n\\n\\n\\n\\n\\n\\n\\n\\n\\n\\n\\n\\n\\n\\n\\n\\n\\n\\n\\n\\n\\n\\n\\n\\n\\n\\n\\n\\n\\n\\n\\n\\n\\n\\n\\n\\n\\n\\n\\n\\n\\n\\n\\n\\n\\n\\n\\n\\n\\n\\n\\n\\n\\n\\n\\n\\n\\n\\n\\n\\n\\n\\n\\n\\n\\n\\n\\n\\n\\n\\n\\n\\n\\n\\n\\n\\n\\n\\n\\n\\n\\n\\n\\n\\n\\n\\n\\n\\n\\n\\n\\n Thomas Baus, DACH Sales. Having been part of Nordcloud for most of the company’s lifespan, Thomas has dedicated heart and mind to nurturing our brand, expanding our customer base, fostering our team, and enriching our culture within our German-speaking regions. After holding various global positions, he now returns to focus on our ongoing growth and success journey in the DACH region.\"\n",
      "}\n",
      "\u001b[32;1m\u001b[1;3m[llm/start]\u001b[0m \u001b[1m[chain:RetrievalQA > chain:MapReduceDocumentsChain > chain:LLMChain > llm:HuggingFacePipeline] Entering LLM run with input:\n",
      "\u001b[0m{\n",
      "  \"prompts\": [\n",
      "    \"Given the following extracted parts of a long document and a question, create a final answer. \\nIf you don't know the answer, just say that you don't know. Don't try to make up an answer.\\n\\nQUESTION: Which state/country's law governs the interpretation of the contract?\\n=========\\nContent: This Agreement is governed by English law and the parties submit to the exclusive jurisdiction of the English courts in  relation to any dispute (contractual or non-contractual) concerning this Agreement save that either party may apply to any court for an  injunction or other relief to protect its Intellectual Property Rights.\\n\\nContent: No Waiver. Failure or delay in exercising any right or remedy under this Agreement shall not constitute a waiver of such (or any other)  right or remedy.\\n\\n11.7 Severability. The invalidity, illegality or unenforceability of any term (or part of a term) of this Agreement shall not affect the continuation  in force of the remainder of the term (if any) and this Agreement.\\n\\n11.8 No Agency. Except as expressly stated otherwise, nothing in this Agreement shall create an agency, partnership or joint venture of any  kind between the parties.\\n\\n11.9 No Third-Party Beneficiaries.\\n\\nContent: (b) if Google believes, in good faith, that the Distributor has violated or caused Google to violate any Anti-Bribery Laws (as  defined in Clause 8.5) or that such a violation is reasonably likely to occur,\\n=========\\nFINAL ANSWER: This Agreement is governed by English law.\\n\\nQUESTION: What did the president say about Michael Jackson?\\n=========\\nContent: Madam Speaker, Madam Vice President, our First Lady and Second Gentleman. Members of Congress and the Cabinet. Justices of the Supreme Court. My fellow Americans.  \\n\\nLast year COVID-19 kept us apart. This year we are finally together again. \\n\\nTonight, we meet as Democrats Republicans and Independents. But most importantly as Americans. \\n\\nWith a duty to one another to the American people to the Constitution. \\n\\nAnd with an unwavering resolve that freedom will always triumph over tyranny. \\n\\nSix days ago, Russia’s Vladimir Putin sought to shake the foundations of the free world thinking he could make it bend to his menacing ways. But he badly miscalculated. \\n\\nHe thought he could roll into Ukraine and the world would roll over. Instead he met a wall of strength he never imagined. \\n\\nHe met the Ukrainian people. \\n\\nFrom President Zelenskyy to every Ukrainian, their fearlessness, their courage, their determination, inspires the world. \\n\\nGroups of citizens blocking tanks with their bodies. Everyone from students to retirees teachers turned soldiers defending their homeland.\\n\\nContent: And we won’t stop. \\n\\nWe have lost so much to COVID-19. Time with one another. And worst of all, so much loss of life. \\n\\nLet’s use this moment to reset. Let’s stop looking at COVID-19 as a partisan dividing line and see it for what it is: A God-awful disease.  \\n\\nLet’s stop seeing each other as enemies, and start seeing each other for who we really are: Fellow Americans.  \\n\\nWe can’t change how divided we’ve been. But we can change how we move forward—on COVID-19 and other issues we must face together. \\n\\nI recently visited the New York City Police Department days after the funerals of Officer Wilbert Mora and his partner, Officer Jason Rivera. \\n\\nThey were responding to a 9-1-1 call when a man shot and killed them with a stolen gun. \\n\\nOfficer Mora was 27 years old. \\n\\nOfficer Rivera was 22. \\n\\nBoth Dominican Americans who’d grown up on the same streets they later chose to patrol as police officers. \\n\\nI spoke with their families and told them that we are forever in debt for their sacrifice, and we will carry on their mission to restore the trust and safety every community deserves.\\n\\nContent: And a proud Ukrainian people, who have known 30 years  of independence, have repeatedly shown that they will not tolerate anyone who tries to take their country backwards.  \\n\\nTo all Americans, I will be honest with you, as I’ve always promised. A Russian dictator, invading a foreign country, has costs around the world. \\n\\nAnd I’m taking robust action to make sure the pain of our sanctions  is targeted at Russia’s economy. And I will use every tool at our disposal to protect American businesses and consumers. \\n\\nTonight, I can announce that the United States has worked with 30 other countries to release 60 Million barrels of oil from reserves around the world.  \\n\\nAmerica will lead that effort, releasing 30 Million barrels from our own Strategic Petroleum Reserve. And we stand ready to do more if necessary, unified with our allies.  \\n\\nThese steps will help blunt gas prices here at home. And I know the news about what’s happening can seem alarming. \\n\\nBut I want you to know that we are going to be okay.\\n\\nContent: More support for patients and families. \\n\\nTo get there, I call on Congress to fund ARPA-H, the Advanced Research Projects Agency for Health. \\n\\nIt’s based on DARPA—the Defense Department project that led to the Internet, GPS, and so much more.  \\n\\nARPA-H will have a singular purpose—to drive breakthroughs in cancer, Alzheimer’s, diabetes, and more. \\n\\nA unity agenda for the nation. \\n\\nWe can do this. \\n\\nMy fellow Americans—tonight , we have gathered in a sacred space—the citadel of our democracy. \\n\\nIn this Capitol, generation after generation, Americans have debated great questions amid great strife, and have done great things. \\n\\nWe have fought for freedom, expanded liberty, defeated totalitarianism and terror. \\n\\nAnd built the strongest, freest, and most prosperous nation the world has ever known. \\n\\nNow is the hour. \\n\\nOur moment of responsibility. \\n\\nOur test of resolve and conscience, of history itself. \\n\\nIt is in this moment that our character is formed. Our purpose is found. Our future is forged. \\n\\nWell I know this nation.\\n=========\\nFINAL ANSWER: The president did not mention Michael Jackson.\\n\\nQUESTION: Can you tell me more about the company nordcloud in munich?\\n=========\\n\\nNordcloud Deutschland GmbH (IBM)\\nMies-van-der-Rohe-Straße 6\\nTower 1 / 28 OG\\n80807 München\\n\\nThis text indicates that Nordcloud has an office located in Munich, Germany, at the address Mies-van-der-Rohe-Straße 6, Tower 1 / 28 OG, 80807 München.\\n\\n\\nIlja Summala is the Group CTO at Nordcloud in Munich.\\nNordcloud is a European leader in cloud implementation, application development, and managed services.\\nNordcloud helps customers manage infrastructure and develop apps in the cloud.\\nNordcloud partners with Amazon Web Services, Microsoft Azure, Google Cloud, SAP, IBM Multicloud, and others.\\nNordcloud has offices in multiple countries, including Munich.\\nNordcloud's newsletter provides unique professional insights from their cloud native experts on the latest developments in cloud.\\nNordcloud offers services in various industries, including automotive, aviation, healthcare, financial services & insurance, manufacturing & industrial, public sector, services, technology & ISVs.\\nNordcloud has a contact page for inquiries, a careers page, an about us page, and a press office.\\nNordcloud has policies on privacy, recruitment privacy, ESG, quality\\n\\n\\nNordcloud is a European leader in cloud implementation, application development, managed services and training. We have an office in Munich, Germany. Our team in Munich helps customers transform the way they manage infrastructure and develop applications in a cloud-native world. We have a robust background in managing enterprise-grade IT service teams and consulting organizations. Our Global Sales Lead, Tapio Koskinen, and his global team give impartial advice grounded in cloud-native experience.\\n\\n\\n\\n\\n\\n\\n\\n\\n\\n\\n\\n\\n\\n\\n\\n\\n\\n\\n\\n\\n\\n\\n\\n\\n\\n\\n\\n\\n\\n\\n\\n\\n\\n\\n\\n\\n\\n\\n\\n\\n\\n\\n\\n\\n\\n\\n\\n\\n\\n\\n\\n\\n\\n\\n\\n\\n\\n\\n\\n\\n\\n\\n\\n\\n\\n\\n\\n\\n\\n\\n\\n\\n\\n\\n\\n\\n\\n\\n\\n\\n\\n\\n\\n\\n\\n\\n\\n\\n\\n\\n\\n\\n\\n\\n\\n\\n\\n\\n\\n\\n\\n\\n\\n Thomas Baus, DACH Sales. Having been part of Nordcloud for most of the company’s lifespan, Thomas has dedicated heart and mind to nurturing our brand, expanding our customer base, fostering our team, and enriching our culture within our German-speaking regions. After holding various global positions, he now returns to focus on our ongoing growth and success journey in the DACH region.\\n=========\\nFINAL ANSWER:\"\n",
      "  ]\n",
      "}\n"
     ]
    }
   ],
   "source": [
    "import langchain\n",
    "\n",
    "query = inputs2[0]\n",
    "langchain.debug = True\n",
    "qa.invoke({\"query\": query})\n",
    "langchain.debug = False"
   ]
  },
  {
   "cell_type": "markdown",
   "metadata": {},
   "source": [
    "# Tools\n",
    "* https://github.com/langchain-ai/langchain/issues/14954#issuecomment-1864918697\n",
    "* https://github.com/langchain-ai/langchain/issues/14954#issuecomment-1876906769"
   ]
  },
  {
   "cell_type": "code",
   "execution_count": null,
   "metadata": {},
   "outputs": [],
   "source": [
    "from langchain.agents import Tool\n",
    "\n",
    "# tools = [\n",
    "#     Tool(\n",
    "#         name='Knowledge Base',\n",
    "#         func=qa.invoke,\n",
    "#         # func=qa.invoke,\n",
    "#         description=(\n",
    "#             'use this tool when answering general knowledge queries to get '\n",
    "#             'more information about the topic'\n",
    "#         )\n",
    "#     )\n",
    "# ]\n",
    "\n",
    "tools = [\n",
    "    Tool(\n",
    "        name='northcloud_search',\n",
    "        func=qa.invoke,\n",
    "        description=(\n",
    "            'Search for information about NorthCloud. '\n",
    "            'For any questions about NorthCloud, you must use this tool!'\n",
    "        )\n",
    "    )\n",
    "]"
   ]
  },
  {
   "cell_type": "code",
   "execution_count": null,
   "metadata": {},
   "outputs": [],
   "source": [
    "from langchain.agents import initialize_agent\n",
    "from langchain.memory import ConversationBufferMemory\n",
    "from langchain.agents import AgentType \n",
    "\n",
    "agent = initialize_agent(\n",
    "    agent=AgentType.CONVERSATIONAL_REACT_DESCRIPTION,\n",
    "    tools=tools,\n",
    "    llm=llm,\n",
    "    verbose=True,\n",
    "    max_iterations=3,\n",
    "    output_key = \"result\",\n",
    "    handle_parsing_errors=True,\n",
    "    early_stopping_method='generate',\n",
    "    memory = ConversationBufferMemory(memory_key = 'chat_history')   \n",
    ")"
   ]
  },
  {
   "cell_type": "code",
   "execution_count": null,
   "metadata": {},
   "outputs": [],
   "source": [
    "agent.invoke({\"input\": inputs2[0]})"
   ]
  },
  {
   "cell_type": "code",
   "execution_count": null,
   "metadata": {},
   "outputs": [],
   "source": [
    "# from langchain.agents import AgentExecutor\n",
    "# https://github.com/langchain-ai/langchain/issues/14954#issuecomment-1864918697\n",
    "# agent_executor = AgentExecutor(agent=agent, tools=tools, verbose=True, return_intermediate_steps=False, handle_parsing_errors=True)"
   ]
  },
  {
   "cell_type": "code",
   "execution_count": null,
   "metadata": {},
   "outputs": [],
   "source": [
    "# agent_executor.invoke({\"input\": inputs2[0]})\n",
    "# agent_executor.invoke({\"input\": \"hi\"})"
   ]
  },
  {
   "cell_type": "code",
   "execution_count": null,
   "metadata": {},
   "outputs": [],
   "source": [
    "CLEAR_MEMORY = False\n",
    "# CLEAR_MEMORY = True\n",
    "\n",
    "if CLEAR_MEMORY:\n",
    "    clear_mps_memory(tokenizer=tokenizer, generator=generator)"
   ]
  }
 ],
 "metadata": {
  "kernelspec": {
   "display_name": "agents3.11",
   "language": "python",
   "name": "python3"
  },
  "language_info": {
   "codemirror_mode": {
    "name": "ipython",
    "version": 3
   },
   "file_extension": ".py",
   "mimetype": "text/x-python",
   "name": "python",
   "nbconvert_exporter": "python",
   "pygments_lexer": "ipython3",
   "version": "3.11.9"
  }
 },
 "nbformat": 4,
 "nbformat_minor": 4
}
