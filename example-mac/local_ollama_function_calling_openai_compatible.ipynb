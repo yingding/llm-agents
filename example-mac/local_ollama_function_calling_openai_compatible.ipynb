{
 "cells": [
  {
   "cell_type": "markdown",
   "metadata": {},
   "source": [
    "# Introduction\n",
    "\n",
    "this notebook demos example of using llm in a MPS model_name (apple silicon GPU) using torch 2.x to do a local function calling\n",
    "\n",
    "Referece:\n",
    "* https://ollama.com/blog/tool-support\n",
    "* torch 2.x MPS model_name: https://pytorch.org/docs/stable/notes/mps.html\n",
    "* https://blog.pamelafox.org/2024/08/making-ollama-compatible-rag-app.html\n",
    "* https://platform.openai.com/docs/guides/function-calling\n",
    "\n",
    "ollama server log on mac `tail -f $HOME/.ollama/logs/server.log`"
   ]
  },
  {
   "cell_type": "code",
   "execution_count": 1,
   "metadata": {},
   "outputs": [
    {
     "name": "stdout",
     "output_type": "stream",
     "text": [
      "0.0.7\n"
     ]
    }
   ],
   "source": [
    "import os\n",
    "import torch\n",
    "import applyllm as apl\n",
    "# from dotenv import load_dotenv\n",
    "from dotenv import dotenv_values\n",
    "\n",
    "print(apl.__version__)"
   ]
  },
  {
   "cell_type": "code",
   "execution_count": 2,
   "metadata": {},
   "outputs": [
    {
     "name": "stdout",
     "output_type": "stream",
     "text": [
      "MPS is available\n",
      "mps\n"
     ]
    }
   ],
   "source": [
    "# check that MPS is availabe (Metal Performance Shaders)\n",
    "if not torch.backends.mps.is_available():\n",
    "    print(\"MPS is not available\")\n",
    "else:\n",
    "    print(\"MPS is available\")\n",
    "    mps_device = torch.device(\"mps\")\n",
    "    print(mps_device)\n",
    "\n"
   ]
  },
  {
   "cell_type": "markdown",
   "metadata": {},
   "source": [
    "## Define global variables"
   ]
  },
  {
   "cell_type": "code",
   "execution_count": 3,
   "metadata": {},
   "outputs": [],
   "source": [
    "# model_name = \"ollama3.2\"\n",
    "# model_name = \"mistral-nemo\"\n",
    "# model_name = \"mistral-nemo-inst\"\n",
    "# model_name = \"ollama-inst\"\n",
    "# model_name = \"lmstudio\"\n",
    "# model_name = \"openwebui\"\n",
    "\n",
    "OLLAMA = \"ollama\"\n",
    "LMSTUDIO = \"lmstudio\"\n",
    "OPENWEBUI = \"openwebui\"\n",
    "\n",
    "from dataclasses import dataclass, field\n",
    "@dataclass\n",
    "class ModelChoice:\n",
    "    model_name: str = \"ollama3.2\"\n",
    "    model: str = \"\"\n",
    "    endpoint: str = \"http://localhost:11434/v1\"\n",
    "    backend_type: str = OLLAMA\n",
    "    api_key: str = \"EMPTY\"\n",
    "    sys_msg: dict = field(default_factory=dict)\n",
    "\n",
    "# set the ollama qwen2.5-coder:14b model with tool calling ability\n",
    "# LMStudio models qwen instruct are not tool calling compatible\n",
    "model_choice = ModelChoice(\n",
    "    model_name=\"\",\n",
    "    model=\"qwen2.5-coder:14b\",\n",
    "    backend_type=OLLAMA\n",
    ")\n",
    "\n",
    "\n",
    "# nemo need sys message\n",
    "# nemo works with ollama 0.3.14 version, not the 0.3.13 version\n",
    "# https://github.com/ollama/ollama/issues/6713#issuecomment-2338933604\n",
    "\n",
    "\n",
    "# both the ollama3.1:8b and llama3.1:8b-instruct-q3_K_M models\n",
    "# works with openai compatible function calling on device\n",
    "if model_choice.model_name == \"ollama3.2\":\n",
    "    # model=\"gorilla-openfunctions-v2-q4_K_M\"\n",
    "    model_choice.model=\"llama3.2:3b\"\n",
    "elif model_choice.model_name == \"ollama-inst\":\n",
    "    model_choice.model=\"llama3.1:8b-instruct-q3_K_M\"\n",
    "elif model_choice == \"mistral-nemo-inst\":\n",
    "    model_choice.model=\"mistral-nemo:12b-instruct-2407-fp16\"\n",
    "elif model_choice.model_name == \"mistral-nemo\":\n",
    "    model_choice.model=\"mistral-nemo:12b\"\n",
    "elif model_choice.model_name == \"gorilla-v1\":\n",
    "    model_choice.model=\"TheBloke/gorilla-openfunctions-v1-GGUF\"\n",
    "    model_choice.backend_type = LMSTUDIO\n",
    "elif model_choice.model_name == \"qwencoder32b\":\n",
    "    model_choice.model=\"qwen2.5-coder-32b-instruct\"\n",
    "    model_choice.backend_type = LMSTUDIO\n",
    "# elif model_name == \"openwebui\":\n",
    "#     model=\"llama3.1:70b\"\n",
    "#     endpoint=\"https://core-llmtest.med.uni-muenchen.de/ollama/v1\"\n",
    "#     config = dotenv_values(dotenv_path=\"envs/openwebui.env\")\n",
    "#     api_key = config[\"API_KEY\"]\n",
    "\n",
    "if model_choice.backend_type == OLLAMA:\n",
    "    model_choice.endpoint=\"http://localhost:11434/v1\"\n",
    "elif model_choice.backend_type == LMSTUDIO:\n",
    "    model_choice.endpoint=\"http://localhost:1234/v1\"\n",
    "elif model_choice.backend_type == OPENWEBUI:\n",
    "    # notice the openwebui endpoint is not just pass through forward to ollama\n",
    "    # the current openwebui endpoint is not openai compatible\n",
    "    model_choice.endpoint=\"https://localhost:34567/ollama/v1\""
   ]
  },
  {
   "cell_type": "code",
   "execution_count": 4,
   "metadata": {},
   "outputs": [],
   "source": [
    "# from openai import OpenAI\n",
    "\n",
    "# client = OpenAI(\n",
    "#     base_url = endpoint,\n",
    "#     api_key=api_key, # required, but unused\n",
    "# )\n",
    "\n",
    "# response = client.chat.completions.create(\n",
    "#   model=model,\n",
    "#   messages=[\n",
    "#     {\"role\": \"system\", \"content\": \"You are a helpful assistant.\"},\n",
    "#     {\"role\": \"user\", \"content\": \"Who won the world series in 2020?\"},\n",
    "#     {\"role\": \"assistant\", \"content\": \"The LA Dodgers won in 2020.\"},\n",
    "#     {\"role\": \"user\", \"content\": \"Where was it played?\"}\n",
    "#   ]\n",
    "# )\n",
    "# print(response.choices[0].message.content)"
   ]
  },
  {
   "cell_type": "code",
   "execution_count": 5,
   "metadata": {},
   "outputs": [],
   "source": [
    "from openai import OpenAI\n",
    "import json\n",
    "\n",
    "def get_llm_response(\n",
    "    prompt=\"Call me an Uber ride type \\\"Plus\\\" in Berkeley at zipcode 94704 in 10 minutes\", \n",
    "    model=\"gorilla-openfunctions-v2-q4_K_M\",\n",
    "    endpoint=\"http://localhost:11434/v1\",\n",
    "    api_key=\"EMPTY\",\n",
    "    sys_msg={},\n",
    "    functions=[]):\n",
    "\n",
    "\n",
    "    client = OpenAI(\n",
    "        api_key=api_key,\n",
    "        base_url=endpoint,\n",
    "    )\n",
    "    # client = CustomOpenAIClient(\n",
    "    #     api_key=\"EMPTY\",\n",
    "    #     base_url=endpoint\n",
    "    # )\n",
    "  \n",
    "    try:\n",
    "        # extend with custom prompt\n",
    "        # prompt = f'<<question>> {prompt} <<function>> {json.dumps(functions)}'\n",
    "        completion = client.chat.completions.create(\n",
    "            model=model, # model from the ollama list\n",
    "            temperature=0.01,\n",
    "            top_p=1,\n",
    "            max_tokens=80,\n",
    "            messages=[{\"role\": \"user\", \"content\": prompt}, ] if sys_msg == {} else [sys_msg, {\"role\": \"user\", \"content\": prompt}, ],\n",
    "            tools=functions,\n",
    "            # tool_choice= \"required\",\n",
    "            stream=False,\n",
    "            tool_choice= \"auto\",\n",
    "        )\n",
    "        print(completion)\n",
    "        return completion.choices[0]\n",
    "    except Exception as e:\n",
    "        print(e, model, prompt)"
   ]
  },
  {
   "cell_type": "markdown",
   "metadata": {},
   "source": [
    "### Example of Parallel Function calling\n",
    "Human: \n",
    "```text\n",
    "What's the weather like in the two cities of Boston and San Francisco?\n",
    "```\n",
    "Agent: \n",
    "```json\n",
    "...\n",
    "        \"tool_calls\": [\n",
    "          {\n",
    "            \"id\": \"1\",\n",
    "            \"function\": {\n",
    "              \"arguments\": \"{\\\"location\\\": \\\"Boston, MA\\\"}\",\n",
    "              \"name\": \"get_current_weather\"\n",
    "            },\n",
    "            \"type\": \"function\"\n",
    "          },\n",
    "          {\n",
    "            \"id\": \"1\",\n",
    "            \"function\": {\n",
    "              \"arguments\": \"{\\\"location\\\": \\\"San Francisco, CA\\\"}\",\n",
    "              \"name\": \"get_current_weather\"\n",
    "            },\n",
    "            \"type\": \"function\"\n",
    "          }\n",
    "        ]\n",
    "```"
   ]
  },
  {
   "cell_type": "code",
   "execution_count": 6,
   "metadata": {},
   "outputs": [],
   "source": [
    "# response = get_llm_response(\"hi\", functions=[], model=model, endpoint=endpoint, api_key=api_key)\n",
    "# print(response)"
   ]
  },
  {
   "cell_type": "code",
   "execution_count": 7,
   "metadata": {},
   "outputs": [
    {
     "name": "stdout",
     "output_type": "stream",
     "text": [
      "ChatCompletion(id='chatcmpl-640', choices=[Choice(finish_reason='tool_calls', index=0, logprobs=None, message=ChatCompletionMessage(content='', refusal=None, role='assistant', audio=None, function_call=None, tool_calls=[ChatCompletionMessageToolCall(id='call_x3we59v2', function=Function(arguments='{\"location\":\"Boston, MA\"}', name='get_current_weather'), type='function', index=0), ChatCompletionMessageToolCall(id='call_c0z6sls7', function=Function(arguments='{\"location\":\"San Francisco, CA\"}', name='get_current_weather'), type='function', index=0)]))], created=1733959735, model='qwen2.5-coder:14b', object='chat.completion', service_tier=None, system_fingerprint='fp_ollama', usage=CompletionUsage(completion_tokens=74, prompt_tokens=200, total_tokens=274, completion_tokens_details=None, prompt_tokens_details=None))\n"
     ]
    }
   ],
   "source": [
    "query = \"What's the weather like in the two cities of Boston and San Francisco?\"\n",
    "functions = [\n",
    "    {   \"type\": \"function\",\n",
    "        \"function\": {\n",
    "            \"name\": \"get_current_weather\",\n",
    "            \"description\": \"Get the current weather in a given location\",\n",
    "            \"parameters\": {\n",
    "                \"type\": \"object\",\n",
    "                \"properties\": {\n",
    "                    \"location\": {\n",
    "                        \"type\": \"string\",\n",
    "                        \"description\": \"The city and state, e.g. San Francisco, CA\",\n",
    "                    },\n",
    "                    \"unit\": {\"type\": \"string\", \"enum\": [\"celsius\", \"fahrenheit\"]},\n",
    "                },\n",
    "                \"required\": [\"location\"],\n",
    "            },\n",
    "        }\n",
    "    }\n",
    "]\n",
    "\n",
    "# from pydantic import BaseModel\n",
    "# import openai\n",
    "# class get_current_weather(BaseModel):\n",
    "#     \"\"\"Get the current weather in a given location\"\"\"\n",
    "#     location: str # The city and state, e.g. San Francisco, CA\n",
    "#     unit: str\n",
    "\n",
    "# functions = [openai.pydantic_function_tool(get_current_weather)]\n",
    "\n",
    "response = get_llm_response(\n",
    "    query, functions=functions, \n",
    "    model=model_choice.model, endpoint=model_choice.endpoint, api_key=model_choice.api_key, sys_msg=model_choice.sys_msg)"
   ]
  },
  {
   "cell_type": "code",
   "execution_count": 8,
   "metadata": {},
   "outputs": [
    {
     "name": "stdout",
     "output_type": "stream",
     "text": [
      "\n"
     ]
    }
   ],
   "source": [
    "# successfully make parallel function calling\n",
    "if model_choice.model == \"gorilla-openfunctions-v2-q4_K_M\":\n",
    "    from utils.openai import CustomLLMResponseAdapter\n",
    "    completion = CustomLLMResponseAdapter.adapt_response(response=response.message.content)\n",
    "    response = completion.choices[0]\n",
    "\n",
    "if response is not None:\n",
    "    print(response.message.content)\n",
    "else:\n",
    "    print(\"No response\")"
   ]
  },
  {
   "cell_type": "code",
   "execution_count": 9,
   "metadata": {},
   "outputs": [
    {
     "name": "stdout",
     "output_type": "stream",
     "text": [
      "{\n",
      "  \"finish_reason\": \"tool_calls\",\n",
      "  \"index\": 0,\n",
      "  \"message\": {\n",
      "    \"content\": \"\",\n",
      "    \"role\": \"assistant\",\n",
      "    \"tool_calls\": [\n",
      "      {\n",
      "        \"id\": \"call_x3we59v2\",\n",
      "        \"function\": {\n",
      "          \"arguments\": \"{\\\"location\\\":\\\"Boston, MA\\\"}\",\n",
      "          \"name\": \"get_current_weather\"\n",
      "        },\n",
      "        \"type\": \"function\",\n",
      "        \"index\": 0\n",
      "      },\n",
      "      {\n",
      "        \"id\": \"call_c0z6sls7\",\n",
      "        \"function\": {\n",
      "          \"arguments\": \"{\\\"location\\\":\\\"San Francisco, CA\\\"}\",\n",
      "          \"name\": \"get_current_weather\"\n",
      "        },\n",
      "        \"type\": \"function\",\n",
      "        \"index\": 0\n",
      "      }\n",
      "    ]\n",
      "  }\n",
      "}\n"
     ]
    }
   ],
   "source": [
    "if response is not None:\n",
    "    openai_json_response = response.to_json()\n",
    "    print(openai_json_response)"
   ]
  },
  {
   "cell_type": "code",
   "execution_count": null,
   "metadata": {},
   "outputs": [],
   "source": []
  }
 ],
 "metadata": {
  "kernelspec": {
   "display_name": "agents3.11",
   "language": "python",
   "name": "python3"
  },
  "language_info": {
   "codemirror_mode": {
    "name": "ipython",
    "version": 3
   },
   "file_extension": ".py",
   "mimetype": "text/x-python",
   "name": "python",
   "nbconvert_exporter": "python",
   "pygments_lexer": "ipython3",
   "version": "3.11.10"
  }
 },
 "nbformat": 4,
 "nbformat_minor": 4
}
