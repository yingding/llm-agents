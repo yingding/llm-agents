{
 "cells": [
  {
   "cell_type": "markdown",
   "metadata": {},
   "source": [
    "# Introduction\n",
    "\n",
    "this notebook demos example of using llm in a MPS backend (apple silicon GPU) using torch 2.x to do a local function calling\n",
    "\n",
    "Referece:\n",
    "* https://ollama.com/blog/tool-support\n",
    "* torch 2.x MPS Backend: https://pytorch.org/docs/stable/notes/mps.html\n",
    "* https://blog.pamelafox.org/2024/08/making-ollama-compatible-rag-app.html\n",
    "* https://platform.openai.com/docs/guides/function-calling"
   ]
  },
  {
   "cell_type": "code",
   "execution_count": 1,
   "metadata": {},
   "outputs": [
    {
     "name": "stdout",
     "output_type": "stream",
     "text": [
      "0.0.7\n"
     ]
    }
   ],
   "source": [
    "import os\n",
    "import torch\n",
    "import applyllm as apl\n",
    "\n",
    "print(apl.__version__)"
   ]
  },
  {
   "cell_type": "code",
   "execution_count": 2,
   "metadata": {},
   "outputs": [
    {
     "name": "stdout",
     "output_type": "stream",
     "text": [
      "MPS is available\n",
      "mps\n"
     ]
    }
   ],
   "source": [
    "# check that MPS is availabe (Metal Performance Shaders)\n",
    "if not torch.backends.mps.is_available():\n",
    "    print(\"MPS is not available\")\n",
    "else:\n",
    "    print(\"MPS is available\")\n",
    "    mps_device = torch.device(\"mps\")\n",
    "    print(mps_device)\n",
    "\n"
   ]
  },
  {
   "cell_type": "markdown",
   "metadata": {},
   "source": [
    "## Define global variables"
   ]
  },
  {
   "cell_type": "code",
   "execution_count": 3,
   "metadata": {},
   "outputs": [],
   "source": [
    "backend = \"ollama\"\n",
    "# backend = \"lmstudio\"\n",
    "\n",
    "if backend == \"ollama\":\n",
    "    # model=\"llama3-groq-tool-use:8b\"\n",
    "    # model=\"gorilla-openfunctions-v2-q4_K_M\"\n",
    "    model=\"llama3.1:8b\"\n",
    "    endpoint=\"http://localhost:11434/v1\"\n",
    "elif backend == \"lmstudio\":\n",
    "    model=\"TheBloke/gorilla-openfunctions-v1-GGUF\"\n",
    "    endpoint=\"http://localhost:1234/v1\"  "
   ]
  },
  {
   "cell_type": "code",
   "execution_count": 4,
   "metadata": {},
   "outputs": [],
   "source": [
    "from openai import OpenAI\n",
    "import json\n",
    "\n",
    "def get_llm_response(\n",
    "    prompt=\"Call me an Uber ride type \\\"Plus\\\" in Berkeley at zipcode 94704 in 10 minutes\", \n",
    "    model=\"gorilla-openfunctions-v2-q4_K_M\",\n",
    "    endpoint=\"http://localhost:11434/v1\",\n",
    "    functions=[]):\n",
    "    client = OpenAI(\n",
    "        api_key=\"EMPTY\",\n",
    "        base_url=endpoint,\n",
    "    )\n",
    "    # client = CustomOpenAIClient(\n",
    "    #     api_key=\"EMPTY\",\n",
    "    #     base_url=endpoint\n",
    "    # )\n",
    "    try:\n",
    "        # extend with custom prompt\n",
    "        # prompt = f'<<question>> {prompt} <<function>> {json.dumps(functions)}'\n",
    "        completion = client.chat.completions.create(\n",
    "            model=model, # model from the ollama list\n",
    "            temperature=0.01,\n",
    "            top_p=1,\n",
    "            max_tokens=80,\n",
    "            messages=[\n",
    "                {\"role\": \"user\", \"content\": prompt}, \n",
    "            ],\n",
    "            tools=functions,\n",
    "            # tool_choice= \"required\",\n",
    "            stream=False,\n",
    "            tool_choice= \"auto\",\n",
    "        )\n",
    "        print(completion)\n",
    "        return completion.choices[0]\n",
    "    except Exception as e:\n",
    "        print(e, model, prompt)"
   ]
  },
  {
   "cell_type": "markdown",
   "metadata": {},
   "source": [
    "### Example of Parallel Function calling\n",
    "Human: \n",
    "```text\n",
    "What's the weather like in the two cities of Boston and San Francisco?\n",
    "```\n",
    "Agent: \n",
    "```json\n",
    "...\n",
    "        \"tool_calls\": [\n",
    "          {\n",
    "            \"id\": \"1\",\n",
    "            \"function\": {\n",
    "              \"arguments\": \"{\\\"location\\\": \\\"Boston, MA\\\"}\",\n",
    "              \"name\": \"get_current_weather\"\n",
    "            },\n",
    "            \"type\": \"function\"\n",
    "          },\n",
    "          {\n",
    "            \"id\": \"1\",\n",
    "            \"function\": {\n",
    "              \"arguments\": \"{\\\"location\\\": \\\"San Francisco, CA\\\"}\",\n",
    "              \"name\": \"get_current_weather\"\n",
    "            },\n",
    "            \"type\": \"function\"\n",
    "          }\n",
    "        ]\n",
    "```"
   ]
  },
  {
   "cell_type": "code",
   "execution_count": 5,
   "metadata": {},
   "outputs": [
    {
     "name": "stdout",
     "output_type": "stream",
     "text": [
      "ChatCompletion(id='chatcmpl-776', choices=[Choice(finish_reason='tool_calls', index=0, logprobs=None, message=ChatCompletionMessage(content='', refusal=None, role='assistant', function_call=None, tool_calls=[ChatCompletionMessageToolCall(id='call_br52p4f5', function=Function(arguments='{\"location\":\"Boston, MA\",\"unit\":\"fahrenheit\"}', name='get_current_weather'), type='function'), ChatCompletionMessageToolCall(id='call_kc98lgwb', function=Function(arguments='{\"location\":\"San Francisco, CA\",\"unit\":\"fahrenheit\"}', name='get_current_weather'), type='function')]))], created=1723757789, model='llama3.1:8b', object='chat.completion', service_tier=None, system_fingerprint='fp_ollama', usage=CompletionUsage(completion_tokens=55, prompt_tokens=190, total_tokens=245))\n"
     ]
    }
   ],
   "source": [
    "query = \"What's the weather like in the two cities of Boston and San Francisco?\"\n",
    "functions = [\n",
    "    {   \"type\": \"function\",\n",
    "        \"function\": {\n",
    "            \"name\": \"get_current_weather\",\n",
    "            \"description\": \"Get the current weather in a given location\",\n",
    "            \"parameters\": {\n",
    "                \"type\": \"object\",\n",
    "                \"properties\": {\n",
    "                    \"location\": {\n",
    "                        \"type\": \"string\",\n",
    "                        \"description\": \"The city and state, e.g. San Francisco, CA\",\n",
    "                    },\n",
    "                    \"unit\": {\"type\": \"string\", \"enum\": [\"celsius\", \"fahrenheit\"]},\n",
    "                },\n",
    "                \"required\": [\"location\"],\n",
    "            },\n",
    "        }\n",
    "    }\n",
    "]\n",
    "\n",
    "# from pydantic import BaseModel\n",
    "# import openai\n",
    "# class get_current_weather(BaseModel):\n",
    "#     \"\"\"Get the current weather in a given location\"\"\"\n",
    "#     location: str # The city and state, e.g. San Francisco, CA\n",
    "#     unit: str\n",
    "\n",
    "# functions = [openai.pydantic_function_tool(get_current_weather)]\n",
    "\n",
    "response = get_llm_response(query, functions=functions, model=model, endpoint=endpoint)"
   ]
  },
  {
   "cell_type": "code",
   "execution_count": 6,
   "metadata": {},
   "outputs": [
    {
     "name": "stdout",
     "output_type": "stream",
     "text": [
      "[ChatCompletionMessageToolCall(id='call_br52p4f5', function=Function(arguments='{\"location\":\"Boston, MA\",\"unit\":\"fahrenheit\"}', name='get_current_weather'), type='function'), ChatCompletionMessageToolCall(id='call_kc98lgwb', function=Function(arguments='{\"location\":\"San Francisco, CA\",\"unit\":\"fahrenheit\"}', name='get_current_weather'), type='function')]\n"
     ]
    }
   ],
   "source": [
    "# successfully make parallel function calling\n",
    "print(response.message.tool_calls)"
   ]
  },
  {
   "cell_type": "code",
   "execution_count": null,
   "metadata": {},
   "outputs": [],
   "source": []
  }
 ],
 "metadata": {
  "kernelspec": {
   "display_name": "agents3.11",
   "language": "python",
   "name": "python3"
  },
  "language_info": {
   "codemirror_mode": {
    "name": "ipython",
    "version": 3
   },
   "file_extension": ".py",
   "mimetype": "text/x-python",
   "name": "python",
   "nbconvert_exporter": "python",
   "pygments_lexer": "ipython3",
   "version": "3.11.9"
  }
 },
 "nbformat": 4,
 "nbformat_minor": 4
}
