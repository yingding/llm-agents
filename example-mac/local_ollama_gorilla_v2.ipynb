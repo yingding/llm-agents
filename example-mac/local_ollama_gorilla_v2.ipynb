{
 "cells": [
  {
   "cell_type": "markdown",
   "metadata": {},
   "source": [
    "# Introduction\n",
    "\n",
    "this notebook demos example of using llm in a MPS backend (apple silicon GPU) using torch 2.x\n",
    "\n",
    "Referece:\n",
    "* torch 2.x MPS Backend: https://pytorch.org/docs/stable/notes/mps.html"
   ]
  },
  {
   "cell_type": "code",
   "execution_count": 1,
   "metadata": {},
   "outputs": [
    {
     "name": "stdout",
     "output_type": "stream",
     "text": [
      "0.0.6\n"
     ]
    }
   ],
   "source": [
    "import os\n",
    "import torch\n",
    "import applyllm as apl\n",
    "from utils.openai import CustomOpenAIClient\n",
    "\n",
    "print(apl.__version__)"
   ]
  },
  {
   "cell_type": "code",
   "execution_count": 2,
   "metadata": {},
   "outputs": [
    {
     "name": "stdout",
     "output_type": "stream",
     "text": [
      "MPS is available\n",
      "mps\n"
     ]
    }
   ],
   "source": [
    "# check that MPS is availabe (Metal Performance Shaders)\n",
    "if not torch.backends.mps.is_available():\n",
    "    print(\"MPS is not available\")\n",
    "else:\n",
    "    print(\"MPS is available\")\n",
    "    mps_device = torch.device(\"mps\")\n",
    "    print(mps_device)\n",
    "\n"
   ]
  },
  {
   "cell_type": "markdown",
   "metadata": {},
   "source": [
    "## Define global variables"
   ]
  },
  {
   "cell_type": "code",
   "execution_count": 3,
   "metadata": {},
   "outputs": [],
   "source": [
    "backend = \"ollama\"\n",
    "# backend = \"lmstudio\"\n",
    "\n",
    "if backend == \"ollama\":\n",
    "    model=\"gorilla-openfunctions-v2-q4_K_M\"\n",
    "    endpoint=\"http://localhost:11434/v1\"\n",
    "elif backend == \"lmstudio\":\n",
    "    model=\"TheBloke/gorilla-openfunctions-v1-GGUF\"\n",
    "    endpoint=\"http://localhost:1234/v1\"  "
   ]
  },
  {
   "cell_type": "code",
   "execution_count": 4,
   "metadata": {},
   "outputs": [],
   "source": [
    "#sdk openai==0.28.1\n",
    "\n",
    "\n",
    "# import openai\n",
    "# import json\n",
    "\n",
    "# def get_gorilla_response(\n",
    "#     prompt=\"Call me an Uber ride type \\\"Plus\\\" in Berkeley at zipcode 94704 in 10 minutes\", \n",
    "#     model=\"gorilla-openfunctions-v2-q4_K_M\",\n",
    "#     endpoint=\"http://localhost:11434/v1\",\n",
    "#     functions=[]):\n",
    "#   openai.api_key = \"EMPTY\"\n",
    "#   openai.api_base = endpoint\n",
    "#   try:\n",
    "#     # extend with custom prompt\n",
    "#     prompt = f'<<question>> {prompt} <<function>> {json.dumps(functions)}'\n",
    "#     completion = openai.ChatCompletion.create(\n",
    "#       # model=\"adrienbrault/gorilla-openfunctions-v2:Q4_K_M\",\n",
    "#       model=model, # model from the ollama list\n",
    "#       temperature=0.01,\n",
    "#       top_p=1,\n",
    "#       messages=[{\"role\": \"user\", \"content\": prompt}],\n",
    "#       # stop=[\"<|EOT|>\"],\n",
    "#       # start=[\"<｜begin▁of▁sentence｜>\"],\n",
    "#       functions=functions,\n",
    "#     )\n",
    "#     return completion.choices[0]\n",
    "#   except Exception as e:\n",
    "#     print(e, model, prompt)"
   ]
  },
  {
   "cell_type": "code",
   "execution_count": 5,
   "metadata": {},
   "outputs": [],
   "source": [
    "#sdk openai==1.17.0\n",
    "\n",
    "\n",
    "from openai import OpenAI\n",
    "import json\n",
    "\n",
    "def get_gorilla_response(\n",
    "    prompt=\"Call me an Uber ride type \\\"Plus\\\" in Berkeley at zipcode 94704 in 10 minutes\", \n",
    "    model=\"gorilla-openfunctions-v2-q4_K_M\",\n",
    "    endpoint=\"http://localhost:11434/v1\",\n",
    "    functions=[]):\n",
    "    client = OpenAI(\n",
    "        api_key=\"EMPTY\",\n",
    "        base_url=endpoint,\n",
    "    )\n",
    "    # client = CustomOpenAIClient(\n",
    "    #     api_key=\"EMPTY\",\n",
    "    #     base_url=endpoint\n",
    "    # )\n",
    "    try:\n",
    "        # extend with custom prompt\n",
    "        prompt = f'<<question>> {prompt} <<function>> {json.dumps(functions)}'\n",
    "        completion = client.chat.completions.create(\n",
    "            model=model, # model from the ollama list\n",
    "            temperature=0.01,\n",
    "            top_p=1,\n",
    "            max_tokens=80,\n",
    "            messages=[{\"role\": \"user\", \"content\": prompt}],\n",
    "            functions=functions,\n",
    "            tool_choice= \"auto\",\n",
    "        )\n",
    "        print(completion)\n",
    "        return completion.choices[0]\n",
    "    except Exception as e:\n",
    "        print(e, model, prompt)"
   ]
  },
  {
   "cell_type": "markdown",
   "metadata": {},
   "source": [
    "### Example of Parallel Function calling\n",
    "Human: \n",
    "```text\n",
    "What's the weather like in the two cities of Boston and San Francisco?\n",
    "```\n",
    "Agent: \n",
    "```json\n",
    "...\n",
    "        \"tool_calls\": [\n",
    "          {\n",
    "            \"id\": \"1\",\n",
    "            \"function\": {\n",
    "              \"arguments\": \"{\\\"location\\\": \\\"Boston, MA\\\"}\",\n",
    "              \"name\": \"get_current_weather\"\n",
    "            },\n",
    "            \"type\": \"function\"\n",
    "          },\n",
    "          {\n",
    "            \"id\": \"1\",\n",
    "            \"function\": {\n",
    "              \"arguments\": \"{\\\"location\\\": \\\"San Francisco, CA\\\"}\",\n",
    "              \"name\": \"get_current_weather\"\n",
    "            },\n",
    "            \"type\": \"function\"\n",
    "          }\n",
    "        ]\n",
    "```"
   ]
  },
  {
   "cell_type": "code",
   "execution_count": 6,
   "metadata": {},
   "outputs": [
    {
     "name": "stdout",
     "output_type": "stream",
     "text": [
      "ChatCompletion(id='chatcmpl-3', choices=[Choice(finish_reason='stop', index=0, logprobs=None, message=ChatCompletionMessage(content=\"<<function>>get_current_weather(location='Boston, MA')<<function>>get_current_weather(location='San Francisco, CA')\", role='assistant', function_call=None, tool_calls=None))], created=1715786929, model='gorilla-openfunctions-v2-q4_K_M', object='chat.completion', system_fingerprint='fp_ollama', usage=CompletionUsage(completion_tokens=32, prompt_tokens=138, total_tokens=170))\n"
     ]
    }
   ],
   "source": [
    "query = \"What's the weather like in the two cities of Boston and San Francisco?\"\n",
    "functions = [\n",
    "    {\n",
    "        \"name\": \"get_current_weather\",\n",
    "        \"description\": \"Get the current weather in a given location\",\n",
    "        \"parameters\": {\n",
    "            \"type\": \"object\",\n",
    "            \"properties\": {\n",
    "                \"location\": {\n",
    "                    \"type\": \"string\",\n",
    "                    \"description\": \"The city and state, e.g. San Francisco, CA\",\n",
    "                },\n",
    "                \"unit\": {\"type\": \"string\", \"enum\": [\"celsius\", \"fahrenheit\"]},\n",
    "            },\n",
    "            \"required\": [\"location\"],\n",
    "        },\n",
    "    }\n",
    "]\n",
    "response = get_gorilla_response(query, functions=functions, model=model, endpoint=endpoint)"
   ]
  },
  {
   "cell_type": "code",
   "execution_count": 7,
   "metadata": {},
   "outputs": [
    {
     "name": "stdout",
     "output_type": "stream",
     "text": [
      "<<function>>get_current_weather(location='Boston, MA')<<function>>get_current_weather(location='San Francisco, CA')\n"
     ]
    }
   ],
   "source": [
    "# successfully make parallel function calling\n",
    "print(response.message.content)"
   ]
  },
  {
   "cell_type": "markdown",
   "metadata": {},
   "source": [
    "### Use custom response adapter to convert gorilla response to OpenAI response Schema"
   ]
  },
  {
   "cell_type": "code",
   "execution_count": 8,
   "metadata": {},
   "outputs": [],
   "source": [
    "from utils.openai import CustomLLMResponseAdapter\n",
    "openai_json_response = CustomLLMResponseAdapter.adapt_response(response=response.message.content).to_json()"
   ]
  },
  {
   "cell_type": "code",
   "execution_count": 9,
   "metadata": {},
   "outputs": [
    {
     "name": "stdout",
     "output_type": "stream",
     "text": [
      "{\n",
      "  \"id\": \"chatcmpl-default-id\",\n",
      "  \"choices\": [\n",
      "    {\n",
      "      \"finish_reason\": \"tool_calls\",\n",
      "      \"index\": 0,\n",
      "      \"logprobs\": null,\n",
      "      \"message\": {\n",
      "        \"content\": \"\",\n",
      "        \"role\": \"assistant\",\n",
      "        \"function_call\": null,\n",
      "        \"tool_calls\": [\n",
      "          {\n",
      "            \"id\": \"1\",\n",
      "            \"function\": {\n",
      "              \"arguments\": \"{\\\"location\\\": \\\"Boston, MA\\\"}\",\n",
      "              \"name\": \"get_current_weather\"\n",
      "            },\n",
      "            \"type\": \"function\"\n",
      "          },\n",
      "          {\n",
      "            \"id\": \"1\",\n",
      "            \"function\": {\n",
      "              \"arguments\": \"{\\\"location\\\": \\\"San Francisco, CA\\\"}\",\n",
      "              \"name\": \"get_current_weather\"\n",
      "            },\n",
      "            \"type\": \"function\"\n",
      "          }\n",
      "        ]\n",
      "      }\n",
      "    }\n",
      "  ],\n",
      "  \"created\": 0,\n",
      "  \"model\": \"default-model\",\n",
      "  \"object\": \"chat.completion\",\n",
      "  \"usage\": {\n",
      "    \"completion_tokens\": 0,\n",
      "    \"prompt_tokens\": 0,\n",
      "    \"total_tokens\": 0\n",
      "  }\n",
      "}\n"
     ]
    }
   ],
   "source": [
    "print(openai_json_response)"
   ]
  },
  {
   "cell_type": "code",
   "execution_count": null,
   "metadata": {},
   "outputs": [],
   "source": []
  }
 ],
 "metadata": {
  "kernelspec": {
   "display_name": "agents3.11",
   "language": "python",
   "name": "python3"
  },
  "language_info": {
   "codemirror_mode": {
    "name": "ipython",
    "version": 3
   },
   "file_extension": ".py",
   "mimetype": "text/x-python",
   "name": "python",
   "nbconvert_exporter": "python",
   "pygments_lexer": "ipython3",
   "version": "3.11.9"
  }
 },
 "nbformat": 4,
 "nbformat_minor": 4
}
