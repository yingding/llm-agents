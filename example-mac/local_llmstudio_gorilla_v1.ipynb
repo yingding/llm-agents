{
 "cells": [
  {
   "cell_type": "markdown",
   "metadata": {},
   "source": [
    "# Introduction\n",
    "\n",
    "this notebook demos example of using llm in a MPS backend (apple silicon GPU) using torch 2.x\n",
    "\n",
    "Referece:\n",
    "* torch 2.x MPS Backend: https://pytorch.org/docs/stable/notes/mps.html"
   ]
  },
  {
   "cell_type": "code",
   "execution_count": 1,
   "metadata": {},
   "outputs": [
    {
     "name": "stdout",
     "output_type": "stream",
     "text": [
      "0.0.6\n"
     ]
    }
   ],
   "source": [
    "import os\n",
    "import torch\n",
    "import applyllm as apl\n",
    "\n",
    "print(apl.__version__)"
   ]
  },
  {
   "cell_type": "code",
   "execution_count": 2,
   "metadata": {},
   "outputs": [
    {
     "name": "stdout",
     "output_type": "stream",
     "text": [
      "MPS is available\n",
      "mps\n"
     ]
    }
   ],
   "source": [
    "# check that MPS is availabe (Metal Performance Shaders)\n",
    "if not torch.backends.mps.is_available():\n",
    "    print(\"MPS is not available\")\n",
    "else:\n",
    "    print(\"MPS is available\")\n",
    "    mps_device = torch.device(\"mps\")\n",
    "    print(mps_device)\n",
    "\n"
   ]
  },
  {
   "cell_type": "markdown",
   "metadata": {},
   "source": [
    "## Define global variables"
   ]
  },
  {
   "cell_type": "code",
   "execution_count": 3,
   "metadata": {},
   "outputs": [],
   "source": [
    "# backend = \"ollama\"\n",
    "backend = \"lmstudio\"\n",
    "\n",
    "if backend == \"ollama\":\n",
    "    model=\"gorilla-openfunctions-v2-q4_K_M\"\n",
    "    endpoint=\"http://localhost:11434/v1\"\n",
    "elif backend == \"lmstudio\":\n",
    "    model=\"TheBloke/gorilla-openfunctions-v1-GGUF\"\n",
    "    # model=\"gorilla-openfunctions-v1.Q8_0\",\n",
    "    endpoint=\"http://localhost:1234/v1\"  "
   ]
  },
  {
   "cell_type": "code",
   "execution_count": 4,
   "metadata": {},
   "outputs": [],
   "source": [
    "#sdk openai==0.28.1\n",
    "import openai\n",
    "import json\n",
    "\n",
    "def get_gorilla_response(\n",
    "    prompt=\"Call me an Uber ride type \\\"Plus\\\" in Berkeley at zipcode 94704 in 10 minutes\", \n",
    "    model=\"gorilla-openfunctions-v2-q4_K_M\",\n",
    "    endpoint=\"http://localhost:11434/v1\",\n",
    "    functions=[]):\n",
    "  openai.api_key = \"EMPTY\"\n",
    "  openai.api_base = endpoint\n",
    "  try:\n",
    "    # extend with custom prompt\n",
    "    prompt = f'<<question>> {prompt} <<function>> {json.dumps(functions)}'\n",
    "    completion = openai.ChatCompletion.create(\n",
    "      # model=\"adrienbrault/gorilla-openfunctions-v2:Q4_K_M\",\n",
    "      model=model, # model from the ollama list\n",
    "      temperature=0.01,\n",
    "      top_p=1,\n",
    "      messages=[{\"role\": \"user\", \"content\": prompt}],\n",
    "      functions=functions,\n",
    "    )\n",
    "    # return completion.choices[0].message.content\n",
    "    return completion.choices[0]\n",
    "    \n",
    "  except Exception as e:\n",
    "    print(e, model, prompt)"
   ]
  },
  {
   "cell_type": "code",
   "execution_count": 5,
   "metadata": {},
   "outputs": [],
   "source": [
    "#sdk openai==1.17.0\n",
    "# from openai import OpenAI\n",
    "\n",
    "# def get_gorilla_response(prompt=\"Call me an Uber ride type \\\"Plus\\\" in Berkeley at zipcode 94704 in 10 minutes\", model=\"gorilla-openfunctions-v2-q4_K_M\", functions=[]):\n",
    "  \n",
    "#   client = OpenAI(\n",
    "#     api_key=\"EMPTY\",\n",
    "#     base_url=\"http://localhost:11434/v1\"\n",
    "#   )\n",
    "#   try:\n",
    "#     chat_completion = client.chat.completion.create(\n",
    "#       # model=\"adrienbrault/gorilla-openfunctions-v2:Q4_K_M\",\n",
    "#       model=\"gorilla-openfunctions-v2-q4_K_M\", # model from the ollama list\n",
    "#       temperature=0.0,\n",
    "#       messages=[{\"role\": \"user\", \"content\": prompt}],\n",
    "#       functions=functions,\n",
    "#       max_tokens=80\n",
    "#     )\n",
    "#     return chat_completion.choices[0]\n",
    "#   except Exception as e:\n",
    "#     print(e, model, prompt)"
   ]
  },
  {
   "cell_type": "code",
   "execution_count": 6,
   "metadata": {},
   "outputs": [
    {
     "data": {
      "text/plain": [
       "<OpenAIObject at 0x175c7cf50> JSON: {\n",
       "  \"index\": 0,\n",
       "  \"message\": {\n",
       "    \"role\": \"assistant\",\n",
       "    \"content\": \"get_current_weather(location=\\\"Boston, MA\\\")\"\n",
       "  },\n",
       "  \"finish_reason\": \"stop\"\n",
       "}"
      ]
     },
     "execution_count": 6,
     "metadata": {},
     "output_type": "execute_result"
    }
   ],
   "source": [
    "query = \"What's the weather like in the two cities of Boston and San Francisco?\"\n",
    "functions = [\n",
    "    {\n",
    "        \"name\": \"get_current_weather\",\n",
    "        \"description\": \"Get the current weather in a given location\",\n",
    "        \"parameters\": {\n",
    "            \"type\": \"object\",\n",
    "            \"properties\": {\n",
    "                \"location\": {\n",
    "                    \"type\": \"string\",\n",
    "                    \"description\": \"The city and state, e.g. San Francisco, CA\",\n",
    "                },\n",
    "                \"unit\": {\"type\": \"string\", \"enum\": [\"celsius\", \"fahrenheit\"]},\n",
    "            },\n",
    "            \"required\": [\"location\"],\n",
    "        },\n",
    "    }\n",
    "]\n",
    "\n",
    "response = get_gorilla_response(query, functions=functions, model=model, endpoint=endpoint)\n",
    "response"
   ]
  },
  {
   "cell_type": "code",
   "execution_count": 7,
   "metadata": {},
   "outputs": [
    {
     "name": "stdout",
     "output_type": "stream",
     "text": [
      "{\n",
      "  \"index\": 0,\n",
      "  \"message\": {\n",
      "    \"role\": \"assistant\",\n",
      "    \"content\": \"get_current_weather(location=\\\"Boston, MA\\\")\"\n",
      "  },\n",
      "  \"finish_reason\": \"stop\"\n",
      "}\n"
     ]
    }
   ],
   "source": [
    "print(response)"
   ]
  },
  {
   "cell_type": "code",
   "execution_count": null,
   "metadata": {},
   "outputs": [],
   "source": []
  }
 ],
 "metadata": {
  "kernelspec": {
   "display_name": "agents3.11",
   "language": "python",
   "name": "python3"
  },
  "language_info": {
   "codemirror_mode": {
    "name": "ipython",
    "version": 3
   },
   "file_extension": ".py",
   "mimetype": "text/x-python",
   "name": "python",
   "nbconvert_exporter": "python",
   "pygments_lexer": "ipython3",
   "version": "3.11.9"
  }
 },
 "nbformat": 4,
 "nbformat_minor": 4
}
