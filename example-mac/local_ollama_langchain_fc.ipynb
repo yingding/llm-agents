{
 "cells": [
  {
   "cell_type": "markdown",
   "metadata": {},
   "source": [
    "# Langchain Ollama local tool calling example\n",
    "\n",
    "* Video Instruction https://www.youtube.com/watch?v=Nfk99Fz8H9k\n",
    "\n",
    "```python\n",
    "pip install langchain-ollama\n",
    "```"
   ]
  }
 ],
 "metadata": {
  "language_info": {
   "name": "python"
  }
 },
 "nbformat": 4,
 "nbformat_minor": 2
}
